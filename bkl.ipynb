{
 "cells": [
  {
   "cell_type": "markdown",
   "metadata": {},
   "source": [
    "# A PyTorch Implementation of Algorithms in Optimal and Adaptive Algorithms for Online Boosting"
   ]
  },
  {
   "cell_type": "markdown",
   "metadata": {},
   "source": [
    "## Dependencies: \n",
    "PyTorch, matplotlib, numpy\n",
    "\n",
    "## Implementation Note\n",
    "\n",
    "I consider labels of the form {0, 1} and cast to {-1, +1} where needed. This may not be appropriate or necessary, and may be changed in the future."
   ]
  },
  {
   "cell_type": "markdown",
   "metadata": {},
   "source": [
    "## Setup"
   ]
  },
  {
   "cell_type": "code",
   "execution_count": 1,
   "metadata": {},
   "outputs": [
    {
     "name": "stdout",
     "output_type": "stream",
     "text": [
      "Downloading https://www.cs.toronto.edu/~kriz/cifar-10-python.tar.gz to ./data/cifar-10-python.tar.gz\n",
      "Files already downloaded and verified\n",
      "Data loaded:\n",
      "- Training set size: 20000\n",
      "- Test set size: 2000\n"
     ]
    }
   ],
   "source": [
    "import torch\n",
    "import torchvision\n",
    "import torchvision.transforms as transforms\n",
    "import numpy as np\n",
    "\n",
    "transform = transforms.Compose(\n",
    "   [transforms.ToTensor(),\n",
    "    transforms.Normalize((0.5, 0.5, 0.5), (0.5, 0.5, 0.5))])\n",
    "\n",
    "# get CIFAR10 dataset\n",
    "trainset = torchvision.datasets.CIFAR10(root='./data', train=True,\n",
    "                                        download=True, transform=transform)\n",
    "testset = torchvision.datasets.CIFAR10(root='./data', train=False,\n",
    "                                       download=True, transform=transform)\n",
    "\n",
    "# classes = ('plane', 'car', 'bird', 'cat', 'deer', 'dog', 'frog', 'horse', 'ship', 'truck')\n",
    "classes = ('cat', 'dog', 'bird', 'cat', 'deer', 'dog', 'frog', 'horse', 'ship', 'truck')\n",
    "\n",
    "# create binary dataset \n",
    "label1 = 3; label2 = 5 # change if desired\n",
    "trainset.train_labels = np.array(trainset.train_labels)\n",
    "testset.test_labels = np.array(testset.test_labels)\n",
    "\n",
    "# adjust train set\n",
    "mask = (trainset.train_labels == label1) | (trainset.train_labels == label2)\n",
    "trainset.train_data=trainset.train_data[mask]\n",
    "trainset.train_labels=trainset.train_labels[mask]\n",
    "mask1 = (trainset.train_labels == label1)\n",
    "mask2 = (trainset.train_labels == label2)\n",
    "trainset.train_labels[mask1] = 0\n",
    "trainset.train_labels[mask2] = 1\n",
    "\n",
    "# duplicate train set with horizontal rotations and shuffle new array\n",
    "permutation = np.random.permutation(len(trainset.train_labels))\n",
    "trainset.train_data = np.concatenate([trainset.train_data, \n",
    "                                      np.flip(trainset.train_data[permutation], axis=3).copy()], 0)\n",
    "trainset.train_labels = np.concatenate([trainset.train_labels, trainset.train_labels[permutation].copy()], 0)\n",
    "\n",
    "# adjust test set\n",
    "mask = (testset.test_labels == label1) | (testset.test_labels == label2)\n",
    "testset.test_data=testset.test_data[mask]\n",
    "testset.test_labels=testset.test_labels[mask]\n",
    "mask1 = (testset.test_labels == label1)\n",
    "mask2 = (testset.test_labels == label2)\n",
    "testset.test_labels[mask1] = 0\n",
    "testset.test_labels[mask2] = 1\n",
    "\n",
    "# load datasets for experiments: 1 at a time for training; 8 at a time for testing\n",
    "trainloader = torch.utils.data.DataLoader(trainset, batch_size=1,\n",
    "                                          shuffle=True, num_workers=2)\n",
    "testloader = torch.utils.data.DataLoader(testset, batch_size=1,\n",
    "                                         shuffle=False, num_workers=2)\n",
    "\n",
    "print(\"Data loaded:\")\n",
    "print(\"- Training set size:\", len(trainset))\n",
    "print(\"- Test set size:\", len(testset))"
   ]
  },
  {
   "cell_type": "code",
   "execution_count": 2,
   "metadata": {},
   "outputs": [
    {
     "name": "stderr",
     "output_type": "stream",
     "text": [
      "/home/ubuntu/anaconda3/lib/python3.6/site-packages/matplotlib/__init__.py:1067: UserWarning: Duplicate key in file \"/home/ubuntu/.config/matplotlib/matplotlibrc\", line #2\n",
      "  (fname, cnt))\n",
      "/home/ubuntu/anaconda3/lib/python3.6/site-packages/matplotlib/__init__.py:1067: UserWarning: Duplicate key in file \"/home/ubuntu/.config/matplotlib/matplotlibrc\", line #3\n",
      "  (fname, cnt))\n"
     ]
    },
    {
     "name": "stdout",
     "output_type": "stream",
     "text": [
      "Test Images:\n"
     ]
    },
    {
     "data": {
      "text/plain": [
       "<Figure size 640x480 with 1 Axes>"
      ]
     },
     "metadata": {},
     "output_type": "display_data"
    },
    {
     "name": "stdout",
     "output_type": "stream",
     "text": [
      "  cat   cat   dog   dog   dog   dog   dog   dog\n",
      "Train Images:\n"
     ]
    },
    {
     "data": {
      "text/plain": [
       "<Figure size 640x480 with 1 Axes>"
      ]
     },
     "metadata": {},
     "output_type": "display_data"
    },
    {
     "name": "stdout",
     "output_type": "stream",
     "text": [
      "  cat   dog   cat   dog   cat   cat   dog   cat\n"
     ]
    }
   ],
   "source": [
    "import matplotlib.pyplot as plt\n",
    "\n",
    "# functions to show an image\n",
    "def imshow(img):\n",
    "    img = img / 2 + 0.5     # unnormalize\n",
    "    npimg = img.numpy()\n",
    "    plt.imshow(np.transpose(npimg, (1, 2, 0)))\n",
    "    plt.show()\n",
    "\n",
    "# get some random test images\n",
    "dataiter = iter(testloader)\n",
    "images = []; labels = []\n",
    "img_count = 8\n",
    "for _ in range(img_count):\n",
    "    image, label = dataiter.next()\n",
    "    images.append(image)\n",
    "    labels.append(label)\n",
    "images = torch.from_numpy(np.concatenate(images, 0))\n",
    "labels = torch.from_numpy(np.concatenate(labels, 0))\n",
    "\n",
    "# show images\n",
    "print(\"Test Images:\")\n",
    "imshow(torchvision.utils.make_grid(images))\n",
    "# print labels\n",
    "print(' '.join('%5s' % classes[labels[j]] for j in range(img_count)))\n",
    "\n",
    "# get some random train images\n",
    "dataiter = iter(trainloader)\n",
    "images = []; labels = []\n",
    "for _ in range(img_count):\n",
    "    image, label = dataiter.next()\n",
    "    images.append(image)\n",
    "    labels.append(label)\n",
    "images = torch.from_numpy(np.concatenate(images, 0))\n",
    "labels = torch.from_numpy(np.concatenate(labels, 0))\n",
    "\n",
    "# show images\n",
    "print(\"Train Images:\")\n",
    "imshow(torchvision.utils.make_grid(images))\n",
    "# print labels\n",
    "print(' '.join('%5s' % classes[labels[j]] for j in range(img_count)))"
   ]
  },
  {
   "cell_type": "markdown",
   "metadata": {},
   "source": [
    "## Weak Learners: Neural Nets"
   ]
  },
  {
   "cell_type": "code",
   "execution_count": 3,
   "metadata": {},
   "outputs": [],
   "source": [
    "import torch.nn as nn\n",
    "import torch.nn.functional as F\n",
    "\n",
    "class Net(nn.Module):\n",
    "    def __init__(self, architecture=1):\n",
    "        super(Net, self).__init__()\n",
    "        assert architecture in [0, 1, 2, 3]\n",
    "        self.architecture = architecture\n",
    "        \n",
    "        # convolutional layers\n",
    "        self.conv1 = nn.Conv2d(3, 6, 5)\n",
    "        self.pool = nn.MaxPool2d(2, 2)\n",
    "        if self.architecture > 0: self.conv2 = nn.Conv2d(6, 16, 5)\n",
    "        \n",
    "        # fc for architecture 3\n",
    "        if self.architecture == 3:\n",
    "            self.fc3_1 = nn.Linear(16 * 5 * 5, 120)\n",
    "            self.fc3_2 = nn.Linear(120, 84)\n",
    "            self.fc3_3 = nn.Linear(84, 2)\n",
    "        \n",
    "        # fc for architecture 2\n",
    "        if self.architecture == 2:\n",
    "            self.fc2_1 = nn.Linear(16 * 5 * 5, 120)\n",
    "            self.fc2_2 = nn.Linear(120, 2)\n",
    "        \n",
    "        # fc for architecture 1\n",
    "        if self.architecture == 1: self.fc1_1 = nn.Linear(16 * 5 * 5, 2)\n",
    "        \n",
    "        # fc for architecture 0\n",
    "        if self.architecture == 0: self.fc0_1 = nn.Linear(6 * 14 * 14, 2)      \n",
    "        \n",
    "    \n",
    "    def forward(self, x):\n",
    "        \n",
    "        # setup convolutional layers\n",
    "        x = self.pool(F.relu(self.conv1(x)))\n",
    "        if self.architecture > 0: \n",
    "            x = self.pool(F.relu(self.conv2(x)))\n",
    "            x = x.view(-1, 16 * 5 * 5)\n",
    "        else:\n",
    "            x = x.view(-1, 6 * 14 * 14)\n",
    "            \n",
    "        # setup fully connected layers\n",
    "        if self.architecture == 0:\n",
    "            x = self.fc0_1(x)\n",
    "        elif self.architecture == 1:\n",
    "            x = self.fc1_1(x)\n",
    "        elif self.architecture == 2:\n",
    "            x = F.relu(self.fc2_1(x))\n",
    "            x = self.fc2_2(x)\n",
    "        elif self.architecture == 3:\n",
    "            x = F.relu(self.fc3_1(x))\n",
    "            x = F.relu(self.fc3_2(x))\n",
    "            x = self.fc3_3(x)\n",
    "        else: raise(\"Incorrect model id input.\")\n",
    "            \n",
    "        return x"
   ]
  },
  {
   "cell_type": "code",
   "execution_count": 4,
   "metadata": {},
   "outputs": [],
   "source": [
    "# loss to use\n",
    "criterion = nn.CrossEntropyLoss()   \n",
    "\n",
    "# binomial helper function\n",
    "def binom(a, b):\n",
    "    return np.math.factorial(a) / (np.math.factorial(a-b) * np.math.factorial(b))\n",
    "\n",
    "# get output of weak learner i\n",
    "# o.w. get output of combination of WLs    \n",
    "# returns label in {-1, +1}\n",
    "def predict_WL(weak_learners, x, i=0):\n",
    "    with torch.no_grad():\n",
    "        net, _ = weak_learners[i]\n",
    "        output = net(x)\n",
    "        _, predict = torch.max(output.data, 1)\n",
    "        predict = 2 * predict - 1 # map labels to -1, 1\n",
    "        return predict\n",
    "\n",
    "# update weak learner i\n",
    "# accepts y in {0, 1}\n",
    "def update_WL(weak_learners, x, y, i):\n",
    "    net, optimizer = weak_learners[i]\n",
    "    optimizer.zero_grad()\n",
    "    output = net(x)\n",
    "    loss = criterion(output, y)\n",
    "    loss.backward()\n",
    "    optimizer.step()\n",
    "    \n",
    "# get output of combination of WLs (unweighted)\n",
    "# returns label in {-1, +1}\n",
    "def predict_WL_alg1(weak_learners, x):    \n",
    "    N = len(weak_learners)\n",
    "    prediction = 0\n",
    "    for i in range(N):\n",
    "        prediction += predict_WL(weak_learners, x, i)\n",
    "    return -1 if (np.sign(prediction) < 0) else 1\n",
    "\n",
    "# get output of combination of WLs (weighted)\n",
    "# returns label in {-1, +1}\n",
    "def predict_WL_alg2(weak_learners, x, alpha, i):\n",
    "    N = len(weak_learners)\n",
    "    prediction = 0\n",
    "    for j in range(0, i+1):\n",
    "        prediction += alpha[j] * predict_WL(weak_learners, x, j)\n",
    "    return -1 if (np.sign(prediction) < 0) else 1"
   ]
  },
  {
   "cell_type": "markdown",
   "metadata": {},
   "source": [
    "# Baseline - Weak Learner"
   ]
  },
  {
   "cell_type": "code",
   "execution_count": 5,
   "metadata": {},
   "outputs": [],
   "source": [
    "def baseline(weak_learner, T):\n",
    "    \n",
    "    # keep track of metrics every 100 iterations\n",
    "    n_mistakes = 0    \n",
    "    n_mistakes_over_time = []\n",
    "    \n",
    "    # training\n",
    "    net, optimizer = weak_learner\n",
    "    for t, data in enumerate(trainloader, 1):        \n",
    "        # perform T iterations\n",
    "        if t > T: break\n",
    "        \n",
    "        # optimization step\n",
    "        x, y = data        \n",
    "        optimizer.zero_grad()\n",
    "        output = net(x)        \n",
    "        loss = criterion(output, y)\n",
    "        _, predict = torch.max(output.data, 1)\n",
    "        loss.backward()\n",
    "        optimizer.step()\n",
    "        \n",
    "        n_mistakes += (predict != y).item()\n",
    "        if t % plt_interval == 0:\n",
    "            n_mistakes_over_time.append(n_mistakes)\n",
    "    \n",
    "    print(\"Fraction of mistakes after %d iterations:\" % T, n_mistakes / (T))\n",
    "    \n",
    "    return np.array(n_mistakes_over_time)"
   ]
  },
  {
   "cell_type": "markdown",
   "metadata": {},
   "source": [
    "# Online BBM "
   ]
  },
  {
   "cell_type": "code",
   "execution_count": 13,
   "metadata": {},
   "outputs": [],
   "source": [
    "def onlineBBM(weak_learners, T):\n",
    "\n",
    "    # keep track of metrics every 100 iterations\n",
    "    n_mistakes = 0 \n",
    "    n_mistakes_WL = np.zeros(len(weak_learners))\n",
    "    n_mistakes_over_time = []\n",
    "    \n",
    "    # parameters\n",
    "    gamma = 0.05\n",
    "    N = len(weak_learners)\n",
    "    s = np.zeros(N+1)\n",
    "    k = np.zeros(N+1)\n",
    "    w = np.zeros(N+1)\n",
    "    max_w = np.zeros(N+1)\n",
    "    \n",
    "    # T loop\n",
    "    for t, data in enumerate(trainloader, 1):\n",
    "        \n",
    "        # perform T iterations\n",
    "        if t > T: break\n",
    "        \n",
    "        # receive example and label\n",
    "        x, y = data\n",
    "        \n",
    "        # predict y\n",
    "        y_hat = predict_WL_alg1(weak_learners, x)        \n",
    "        \n",
    "        # N loop\n",
    "        for j in range(1,N+1):\n",
    "            \n",
    "            # update values\n",
    "            prediction = predict_WL(weak_learners, x, j-1)\n",
    "            s[j] = s[j-1] + (2*y-1) * prediction\n",
    "            k[j] = np.floor((N - j - s[j-1] + 1)/2)\n",
    "            binom_term = 0 if (k[j] < 0 or k[j] > N - j) else binom(N-j, k[j])\n",
    "            w[j] = binom_term * np.power(1/2 + gamma/2, k[j]) * np.power(1/2 - gamma/2, N - j - k[j])\n",
    "            max_w[j] = max(w[j], max_w[j]) \n",
    "            \n",
    "            # count number of mistakes of weak learner\n",
    "            n_mistakes_WL[j-1] += (prediction != (2*y-1)).item()\n",
    "            \n",
    "            # pass training example to WL j with some probability  \n",
    "            prob = 1 if max_w[j] == 0 else w[j]/max_w[j]\n",
    "            if np.random.random_sample() < prob:\n",
    "                update_WL(weak_learners, x, y, j-1)\n",
    "                \n",
    "        # evaluate mistakes\n",
    "        n_mistakes += (y_hat != (2*y-1)).item()\n",
    "        if t % plt_interval == 0:\n",
    "            n_mistakes_over_time.append(n_mistakes)\n",
    "        if t % 1000 == 0:\n",
    "            print(\"Fraction of mistakes by time %d\" % t, n_mistakes / t)\n",
    "            \n",
    "    print(\"Fraction of mistakes after %d iterations:\" % T, n_mistakes / (T))\n",
    "        \n",
    "    # output edge of each weak learner\n",
    "    print(\"Edges of weak learners:\\n\", 0.5 - n_mistakes_WL / T)\n",
    "                \n",
    "    return n_mistakes_over_time"
   ]
  },
  {
   "cell_type": "markdown",
   "metadata": {},
   "source": [
    "# AdaBoost OL"
   ]
  },
  {
   "cell_type": "code",
   "execution_count": 7,
   "metadata": {},
   "outputs": [],
   "source": [
    "def adaboostOL(weak_learners, T):\n",
    "    \n",
    "    # keep track of metrics every 100 iterations\n",
    "    n_mistakes = 0    \n",
    "    n_mistakes_WL = np.zeros(len(weak_learners))\n",
    "    n_mistakes_over_time = []\n",
    "    \n",
    "    # parameters\n",
    "    N = len(weak_learners)    \n",
    "    v = np.ones(N)\n",
    "    alpha = np.zeros(N)\n",
    "    y_hat = np.zeros(N+1)\n",
    "    z = np.zeros(N+1)\n",
    "    s = np.zeros(N+1)\n",
    "    \n",
    "    # T loop\n",
    "    for t, data in enumerate(trainloader, 1):\n",
    "        \n",
    "        # perform T iterations\n",
    "        if t > T: break\n",
    "        \n",
    "        # receive example and label\n",
    "        x, y = data\n",
    "        \n",
    "        # predict y wrt each WL\n",
    "        prediction = 0\n",
    "        for j in range(N):            \n",
    "            prediction += alpha[j] * predict_WL(weak_learners, x, j)\n",
    "            y_hat[j] = -1 if (np.sign(prediction) < 0) else 1\n",
    "            \n",
    "        # model randomly chooses prediction of some WL\n",
    "        v = v / np.sum(v)\n",
    "        idx = np.random.choice(N, size=1, p=v)\n",
    "        y_hat_final = y_hat[idx]\n",
    "        \n",
    "        # N loop\n",
    "        for j in range(1,N+1):\n",
    "            \n",
    "            # set values\n",
    "            prediction = predict_WL(weak_learners, x, j-1)\n",
    "            z[j] = (2 * y - 1) * prediction\n",
    "            s[j] = s[j-1] + alpha[j-1] * z[j]\n",
    "            alpha[j-1] = max(-2, min(2, alpha[j-1] + (4 * z[j] / np.sqrt(t)) / (1 + np.exp(s[j]))))\n",
    "            \n",
    "            # count number of mistakes of weak learner\n",
    "            n_mistakes_WL[j-1] += (prediction != (2*y-1)).item()\n",
    "            \n",
    "            # pass training example to WL j with some probability\n",
    "            if np.random.random_sample() < 1 / (1 + np.exp(s[j-1])):\n",
    "                update_WL(weak_learners, x, y, j-1)\n",
    "                \n",
    "            # update v\n",
    "            indic = -1 if (y_hat_final != (2*y-1)) else 0\n",
    "            v[j-1] = v[j-1] * np.exp(indic)\n",
    "            \n",
    "        # evaluate mistakes\n",
    "        n_mistakes += (y_hat_final != (2*y-1)).item()\n",
    "        if t % plt_interval == 0:\n",
    "            n_mistakes_over_time.append(n_mistakes)\n",
    "        if t % 1000 == 0:\n",
    "            print(\"Fraction of mistakes by time %d\" % t, n_mistakes / t)\n",
    "            \n",
    "    print(\"Fraction of mistakes after %d iterations:\" % T, n_mistakes / (T))\n",
    "       \n",
    "    # output edge of each weak learner\n",
    "    print(\"Edges of weak learners:\\n\", 0.5 - n_mistakes_WL / T)\n",
    "    \n",
    "    return n_mistakes_over_time, alpha"
   ]
  },
  {
   "cell_type": "markdown",
   "metadata": {},
   "source": [
    "## Evaluate Models on Test Set"
   ]
  },
  {
   "cell_type": "code",
   "execution_count": 8,
   "metadata": {},
   "outputs": [
    {
     "name": "stdout",
     "output_type": "stream",
     "text": [
      "GPU is available.\n"
     ]
    }
   ],
   "source": [
    "import torch.optim as optim\n",
    "import matplotlib.pyplot as plt\n",
    "\n",
    "# plot variables\n",
    "plt_interval = 50\n",
    "\n",
    "# Enable GPU\n",
    "use_gpu = torch.cuda.is_available()\n",
    "if use_gpu:\n",
    "    print(\"GPU is available.\")"
   ]
  },
  {
   "cell_type": "code",
   "execution_count": 9,
   "metadata": {},
   "outputs": [],
   "source": [
    "def evaluate_WLs(weak_learners):\n",
    "    print(\"EVALUATING WEAK LEARNERS\")\n",
    "    \n",
    "    for i in range(len(weak_learners)):\n",
    "        correct = 0\n",
    "        with torch.no_grad():\n",
    "            for data in testloader:\n",
    "                x, y = data\n",
    "                y = 2 * y - 1\n",
    "                prediction = predict_WL(weak_learners, x, i)\n",
    "                correct += (prediction == y).sum().item()\n",
    "        print('Accuracy of weak learner', i, 'on the 2000 test images: %d %%' % (100 * correct / len(testloader)))\n",
    "        \n",
    "def evaluate_model_onlineBBM(weak_learners):\n",
    "    print(\"\\nEVALUATING MODEL\")\n",
    "    \n",
    "    N = len(weak_learners)\n",
    "    correct = 0\n",
    "    with torch.no_grad():\n",
    "        for data in testloader: \n",
    "            x, y = data\n",
    "            y = 2 * y - 1\n",
    "            prediction = predict_WL_alg1(weak_learners, x)\n",
    "            correct += (prediction == y).sum().item()\n",
    "    print('Accuracy of the network on the 2000 test images: %d %%' % (100 * correct / len(testloader)))\n",
    "    \n",
    "def evaluate_model_adaboostOL(weak_learners, alpha):\n",
    "    print(\"\\nEVALUATING MODEL\")\n",
    "    \n",
    "    N = len(weak_learners)\n",
    "    correct = 0\n",
    "    total = 0\n",
    "    with torch.no_grad():\n",
    "        for data in testloader:\n",
    "            x, y = data\n",
    "            y = 2 * y - 1\n",
    "            prediction = predict_WL_alg2(weak_learners, x, alpha, N-1)\n",
    "            correct += (prediction == y).sum().item()\n",
    "    print('Accuracy of the network on the 2000 test images: %d %%' % (100 * correct / len(testloader)))"
   ]
  },
  {
   "cell_type": "markdown",
   "metadata": {},
   "source": [
    "## Evaluate Models Online"
   ]
  },
  {
   "cell_type": "code",
   "execution_count": 10,
   "metadata": {},
   "outputs": [],
   "source": [
    "def plot_loss(T, mistakes):\n",
    "    error_rates = mistakes/ np.arange(plt_interval, T+1, plt_interval)\n",
    "    plt.plot(np.arange(2*plt_interval, T+1, plt_interval), error_rates[1:])\n",
    "    plt.title(\"Fraction of mistakes made online by the strong online learner\")\n",
    "    plt.xlabel(\"Number of Iterations\")\n",
    "    plt.ylabel(\"Loss\")\n",
    "    plt.show()\n",
    "\n",
    "def evaluate_baseline(architecture, T):\n",
    "    print(\"\\033[1mEvaluating Baseline:\\n\\033[0m\")\n",
    "    \n",
    "    net = Net(architecture=architecture); print(\"Weak Learner architecture:\\n\", net)\n",
    "    optimizer = optim.SGD(net.parameters(), lr=0.001, momentum=0.9)\n",
    "    weak_learner = (net, optimizer)\n",
    "    mistakes = baseline(weak_learner, T)\n",
    "    evaluate_WLs([weak_learner])\n",
    "    \n",
    "    plot_loss(T, mistakes)\n",
    "    \n",
    "def evaluate_onlineBBM(N, T, architecture):\n",
    "    print(\"\\033[1mEvaluating Online BBM:\\n\\033[0m\")\n",
    "    \n",
    "    # initialize N weak learners\n",
    "    weak_learners = []\n",
    "    for _ in range(N):\n",
    "        net = Net(architecture=architecture)    \n",
    "        optimizer = optim.SGD(net.parameters(), lr=0.001, momentum=0.9)\n",
    "        weak_learners.append((net, optimizer)) \n",
    "    print(\"Weak Learner architecture:\\n\", net) \n",
    "    \n",
    "    # test\n",
    "    mistakes = onlineBBM(weak_learners, T)\n",
    "    print()\n",
    "    evaluate_WLs(weak_learners)\n",
    "    print()\n",
    "    evaluate_model_onlineBBM(weak_learners)\n",
    "    \n",
    "    plot_loss(T, mistakes)\n",
    "    \n",
    "def evaluate_adaboostOL(N, T, architecture):\n",
    "    print(\"\\033[1mEvaluating AdaBoost OL:\\n\\033[0m\")\n",
    "    \n",
    "    # initialize N weak learners\n",
    "    weak_learners = []\n",
    "    for _ in range(N):\n",
    "        net = Net(architecture=architecture)    \n",
    "        optimizer = optim.SGD(net.parameters(), lr=0.001, momentum=0.9)\n",
    "        weak_learners.append((net, optimizer)) \n",
    "    print(\"Weak Learner architecture:\\n\", net)\n",
    "        \n",
    "    mistakes, alpha = adaboostOL(weak_learners, T)\n",
    "    print()\n",
    "    evaluate_WLs(weak_learners)\n",
    "    print()\n",
    "    evaluate_model_adaboostOL(weak_learners, alpha)\n",
    "    \n",
    "    plot_loss(T, mistakes)"
   ]
  },
  {
   "cell_type": "markdown",
   "metadata": {},
   "source": [
    "## Baseline"
   ]
  },
  {
   "cell_type": "code",
   "execution_count": 15,
   "metadata": {},
   "outputs": [
    {
     "name": "stdout",
     "output_type": "stream",
     "text": [
      "\u001b[1mEvaluating Baseline:\n",
      "\u001b[0m\n",
      "Weak Learner architecture:\n",
      " Net(\n",
      "  (conv1): Conv2d(3, 6, kernel_size=(5, 5), stride=(1, 1))\n",
      "  (pool): MaxPool2d(kernel_size=2, stride=2, padding=0, dilation=1, ceil_mode=False)\n",
      "  (fc0_1): Linear(in_features=1176, out_features=2, bias=True)\n",
      ")\n",
      "Fraction of mistakes after 5000 iterations: 0.41\n",
      "EVALUATING WEAK LEARNERS\n",
      "Accuracy of weak learner 0 on the 2000 test images: 61 %\n"
     ]
    },
    {
     "data": {
      "image/png": "[encoded data removed]",
      "text/plain": [
       "<Figure size 432x288 with 1 Axes>"
      ]
     },
     "metadata": {},
     "output_type": "display_data"
    }
   ],
   "source": [
    "evaluate_baseline(architecture=0, T=5000)"
   ]
  },
  {
   "cell_type": "markdown",
   "metadata": {},
   "source": [
    "## Online BBM"
   ]
  },
  {
   "cell_type": "code",
   "execution_count": 14,
   "metadata": {},
   "outputs": [
    {
     "name": "stdout",
     "output_type": "stream",
     "text": [
      "\u001b[1mEvaluating Online BBM:\n",
      "\u001b[0m\n",
      "Weak Learner architecture:\n",
      " Net(\n",
      "  (conv1): Conv2d(3, 6, kernel_size=(5, 5), stride=(1, 1))\n",
      "  (pool): MaxPool2d(kernel_size=2, stride=2, padding=0, dilation=1, ceil_mode=False)\n",
      "  (conv2): Conv2d(6, 16, kernel_size=(5, 5), stride=(1, 1))\n",
      "  (fc2_1): Linear(in_features=400, out_features=120, bias=True)\n",
      "  (fc2_2): Linear(in_features=120, out_features=2, bias=True)\n",
      ")\n",
      "Fraction of mistakes by time 1000 0.466\n",
      "Fraction of mistakes by time 2000 0.46\n",
      "Fraction of mistakes by time 3000 0.451\n",
      "Fraction of mistakes by time 4000 0.4345\n",
      "Fraction of mistakes by time 5000 0.4284\n",
      "Fraction of mistakes after 5000 iterations: 0.4284\n",
      "Edges of weak learners:\n",
      " [0.0822 0.0684 0.0694 0.0638 0.0648 0.053  0.0232 0.0018 0.0206 0.0044]\n",
      "\n",
      "EVALUATING WEAK LEARNERS\n",
      "Accuracy of weak learner 0 on the 2000 test images: 64 %\n",
      "Accuracy of weak learner 1 on the 2000 test images: 61 %\n",
      "Accuracy of weak learner 2 on the 2000 test images: 62 %\n",
      "Accuracy of weak learner 3 on the 2000 test images: 60 %\n",
      "Accuracy of weak learner 4 on the 2000 test images: 59 %\n",
      "Accuracy of weak learner 5 on the 2000 test images: 58 %\n",
      "Accuracy of weak learner 6 on the 2000 test images: 61 %\n",
      "Accuracy of weak learner 7 on the 2000 test images: 51 %\n",
      "Accuracy of weak learner 8 on the 2000 test images: 56 %\n",
      "Accuracy of weak learner 9 on the 2000 test images: 52 %\n",
      "\n",
      "\n",
      "EVALUATING MODEL\n",
      "Accuracy of the network on the 2000 test images: 62 %\n"
     ]
    },
    {
     "data": {
      "image/png": "[encoded data removed]",
      "text/plain": [
       "<Figure size 432x288 with 1 Axes>"
      ]
     },
     "metadata": {},
     "output_type": "display_data"
    }
   ],
   "source": [
    "evaluate_onlineBBM(N=10, T=5000, architecture=2)"
   ]
  },
  {
   "cell_type": "markdown",
   "metadata": {},
   "source": [
    "## Adaboost.OL"
   ]
  },
  {
   "cell_type": "code",
   "execution_count": null,
   "metadata": {},
   "outputs": [],
   "source": [
    "evaluate_adaboostOL(N=5, T=20000, architecture=2)"
   ]
  },
  {
   "cell_type": "markdown",
   "metadata": {},
   "source": [
    "## Run Experiments"
   ]
  },
  {
   "cell_type": "code",
   "execution_count": 21,
   "metadata": {},
   "outputs": [],
   "source": [
    "def run_experiment(T=10000, N=10, net=0, model=\"bbm\"):\n",
    "    evaluate = dict(bbm=evaluate_onlineBBM, adaboost=evaluate_adaboostOL)\n",
    "    evaluate[model](N, T, net)\n",
    "    \n",
    "# net architectures\n",
    "# 0: 1c1f\n",
    "# 1: 2c1f\n",
    "# 2: 2c2f\n",
    "# 3: 2c3f"
   ]
  },
  {
   "cell_type": "code",
   "execution_count": null,
   "metadata": {},
   "outputs": [],
   "source": [
    "run_experiment(T=20000, N=5, net=0, model=\"adaboost\")"
   ]
  },
  {
   "cell_type": "markdown",
   "metadata": {
    "collapsed": true
   },
   "source": [
    "## Citations"
   ]
  },
  {
   "cell_type": "markdown",
   "metadata": {},
   "source": [
    "Code for CNN: https://pytorch.org/tutorials/beginner/blitz/cifar10_tutorial.html\n",
    "\n",
    "Online algorithms: http://proceedings.mlr.press/v37/beygelzimer15.pdf"
   ]
  }
 ],
 "metadata": {
  "kernelspec": {
   "display_name": "Python [default]",
   "language": "python",
   "name": "python3"
  },
  "language_info": {
   "codemirror_mode": {
    "name": "ipython",
    "version": 3
   },
   "file_extension": ".py",
   "mimetype": "text/x-python",
   "name": "python",
   "nbconvert_exporter": "python",
   "pygments_lexer": "ipython3",
   "version": "3.6.4"
  }
 },
 "nbformat": 4,
 "nbformat_minor": 2
}
