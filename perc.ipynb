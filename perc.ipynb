{
 "cells": [
  {
   "cell_type": "markdown",
   "metadata": {},
   "source": [
    "# A PyTorch Implementation of Algorithms in Optimal and Adaptive Algorithms for Online Boosting"
   ]
  },
  {
   "cell_type": "markdown",
   "metadata": {},
   "source": [
    "## Dependencies: \n",
    "PyTorch, matplotlib, numpy\n",
    "\n",
    "## Implementation Note\n",
    "\n",
    "I consider labels of the form {0, 1} and cast to {-1, +1} where needed. This may not be appropriate or necessary, and may be changed in the future."
   ]
  },
  {
   "cell_type": "markdown",
   "metadata": {},
   "source": [
    "## Setup"
   ]
  },
  {
   "cell_type": "code",
   "execution_count": 43,
   "metadata": {},
   "outputs": [
    {
     "name": "stdout",
     "output_type": "stream",
     "text": [
      "Files already downloaded and verified\n",
      "Files already downloaded and verified\n",
      "Dimensions of grayscaled vectorized images: (20000, 1024)\n",
      "(20000,)\n",
      "(2000,)\n",
      "Data loaded:\n",
      "- Training set size: 20000\n",
      "- Test set size: 2000\n"
     ]
    }
   ],
   "source": [
    "import cv2\n",
    "import torch\n",
    "import torchvision\n",
    "import torchvision.transforms as transforms\n",
    "import numpy as np\n",
    "\n",
    "transform = transforms.Compose(\n",
    "   [transforms.ToTensor(),\n",
    "    transforms.Normalize((0.5, 0.5, 0.5), (0.5, 0.5, 0.5))])\n",
    "\n",
    "# get CIFAR10 dataset\n",
    "trainset = torchvision.datasets.CIFAR10(root='./data', train=True,\n",
    "                                        download=True, transform=transform)\n",
    "testset = torchvision.datasets.CIFAR10(root='./data', train=False,\n",
    "                                       download=True, transform=transform)\n",
    "\n",
    "# classes = ('plane', 'car', 'bird', 'cat', 'deer', 'dog', 'frog', 'horse', 'ship', 'truck')\n",
    "classes = ('cat', 'dog', 'bird', 'cat', 'deer', 'dog', 'frog', 'horse', 'ship', 'truck')\n",
    "\n",
    "# create binary dataset \n",
    "label1 = 3; label2 = 5 # change if desired\n",
    "trainset.train_labels = np.array(trainset.train_labels)\n",
    "testset.test_labels = np.array(testset.test_labels)\n",
    "\n",
    "# adjust train set\n",
    "mask = (trainset.train_labels == label1) | (trainset.train_labels == label2)\n",
    "trainset.train_data=trainset.train_data[mask]\n",
    "trainset.train_labels=trainset.train_labels[mask]\n",
    "mask1 = (trainset.train_labels == label1)\n",
    "mask2 = (trainset.train_labels == label2)\n",
    "trainset.train_labels[mask1] = -1\n",
    "trainset.train_labels[mask2] = 1\n",
    "\n",
    "# duplicate train set with horizontal flip and shuffle new array\n",
    "permutation = np.random.permutation(len(trainset.train_labels))\n",
    "trainset.train_data = np.concatenate([trainset.train_data, \n",
    "                                      np.flip(trainset.train_data[permutation], axis=2).copy()], 0)\n",
    "trainset.train_labels = np.concatenate([trainset.train_labels, trainset.train_labels[permutation].copy()], 0)\n",
    "\n",
    "# adjust test set\n",
    "mask = (testset.test_labels == label1) | (testset.test_labels == label2)\n",
    "testset.test_data=testset.test_data[mask]\n",
    "testset.test_labels=testset.test_labels[mask]\n",
    "mask1 = (testset.test_labels == label1)\n",
    "mask2 = (testset.test_labels == label2)\n",
    "testset.test_labels[mask1] = -1\n",
    "testset.test_labels[mask2] = 1\n",
    "\n",
    "# Grayscale and vectorize images\n",
    "gray_train_images = np.asarray([cv2.cvtColor(img, cv2.COLOR_RGB2GRAY) for img in trainset.train_data])\n",
    "trainset.train_data = np.asarray([img.flatten() for img in gray_train_images])\n",
    "gray_test_images = np.asarray([cv2.cvtColor(img, cv2.COLOR_RGB2GRAY) for img in testset.test_data])\n",
    "testset.test_data = np.asarray([img.flatten() for img in gray_test_images])\n",
    "print(\"Dimensions of grayscaled vectorized images:\", np.shape(trainset.train_data))\n",
    "\n",
    "# load datasets for experiments: 1 at a time for training; 8 at a time for testing\n",
    "trainloader = torch.utils.data.DataLoader(trainset, batch_size=1,\n",
    "                                          shuffle=True, num_workers=2)\n",
    "testloader = torch.utils.data.DataLoader(testset, batch_size=1,\n",
    "                                         shuffle=False, num_workers=2)\n",
    "\n",
    "print(np.shape(trainset.train_labels))\n",
    "print(np.shape(testset.test_labels))\n",
    "\n",
    "print(\"Data loaded:\")\n",
    "print(\"- Training set size:\", len(trainset))\n",
    "print(\"- Test set size:\", len(testset))"
   ]
  },
  {
   "cell_type": "code",
   "execution_count": 32,
   "metadata": {},
   "outputs": [],
   "source": [
    "# import matplotlib.pyplot as plt\n",
    "\n",
    "# # functions to show an image\n",
    "# def imshow(img):\n",
    "#     img = img / 2 + 0.5     # unnormalize\n",
    "#     npimg = img.numpy()\n",
    "#     plt.imshow(np.transpose(npimg, (1, 2, 0)))\n",
    "#     plt.show()\n",
    "\n",
    "# # get some random test images\n",
    "# dataiter = iter(testloader)\n",
    "# images = []; labels = []\n",
    "# img_count = 8\n",
    "# for _ in range(img_count):\n",
    "#     image, label = dataiter.next()\n",
    "#     images.append(image)\n",
    "#     labels.append(label)\n",
    "# images = torch.from_numpy(np.concatenate(images, 0))\n",
    "# labels = torch.from_numpy(np.concatenate(labels, 0))\n",
    "\n",
    "# # show images\n",
    "# print(\"Test Images:\")\n",
    "# imshow(torchvision.utils.make_grid(images))\n",
    "# # print labels\n",
    "# print(' '.join('%5s' % classes[labels[j]] for j in range(img_count)))\n",
    "\n",
    "# # get some random train images\n",
    "# dataiter = iter(trainloader)\n",
    "# images = []; labels = []\n",
    "# for _ in range(img_count):\n",
    "#     image, label = dataiter.next()\n",
    "#     images.append(image)\n",
    "#     labels.append(label)\n",
    "# images = torch.from_numpy(np.concatenate(images, 0))\n",
    "# labels = torch.from_numpy(np.concatenate(labels, 0))\n",
    "\n",
    "# # show images\n",
    "# print(\"Train Images:\")\n",
    "# imshow(torchvision.utils.make_grid(images))\n",
    "# # print labels\n",
    "# print(' '.join('%5s' % classes[labels[j]] for j in range(img_count)))"
   ]
  },
  {
   "cell_type": "markdown",
   "metadata": {},
   "source": [
    "# Weak Learner: Perceptron"
   ]
  },
  {
   "cell_type": "code",
   "execution_count": 33,
   "metadata": {},
   "outputs": [],
   "source": [
    "# set learning rate\n",
    "eta = 0.01\n",
    "\n",
    "# get output of weak learner i\n",
    "# o.w. get output of combination of WLs    \n",
    "# returns label in {-1, +1}\n",
    "def predict_WL(weak_learners, x, i=0):\n",
    "    predict = np.dot(x, weak_learners[i])\n",
    "    return -1 if (np.sign(predict) < 0) else 1\n",
    "\n",
    "# update weak learner i\n",
    "# accepts y in {-1, 1}\n",
    "def update_WL(weak_learners, x, y, i):\n",
    "    if (np.dot(x, weak_learners[i])*y) < 0:\n",
    "        weak_learners[i] = weak_learners[i] + eta * x * y\n",
    "    \n",
    "# get output of combination of WLs (unweighted)\n",
    "# returns label in {-1, +1}\n",
    "def predict_WL_alg1(weak_learners, x):    \n",
    "    N = len(weak_learners)\n",
    "    prediction = 0\n",
    "    for i in range(N):\n",
    "        prediction += predict_WL(weak_learners, x, i)\n",
    "    return -1 if (np.sign(prediction) < 0) else 1\n",
    "\n",
    "# get output of combination of WLs (weighted)\n",
    "# returns label in {-1, +1}\n",
    "def predict_WL_alg2(weak_learners, x, alpha, i):\n",
    "    prediction = 0\n",
    "    for j in range(0, i+1):\n",
    "        prediction += alpha[j] * predict_WL(weak_learners, x, j)\n",
    "    return -1 if (np.sign(prediction) < 0) else 1"
   ]
  },
  {
   "cell_type": "markdown",
   "metadata": {},
   "source": [
    "# Baseline - Weak Learner"
   ]
  },
  {
   "cell_type": "code",
   "execution_count": 34,
   "metadata": {},
   "outputs": [],
   "source": [
    "def baseline(weak_learner, T):\n",
    "    \n",
    "    # keep track of metrics every 100 iterations\n",
    "    n_mistakes = 0    \n",
    "    n_mistakes_over_time = []\n",
    "    \n",
    "    # training\n",
    "    for t, data in enumerate(trainloader, 1):        \n",
    "        # perform T iterations\n",
    "        if t > T: break\n",
    "        \n",
    "        # optimization step\n",
    "        x, y = data        \n",
    "        predict = np.dot(x, weak_learner)\n",
    "        if (predict*y) < 0:\n",
    "            weak_learners[i] = weak_learners[i] + eta * x * y\n",
    "        \n",
    "        n_mistakes += (predict != y).item()\n",
    "        if t % plt_interval == 0:\n",
    "            n_mistakes_over_time.append(n_mistakes)\n",
    "    \n",
    "    print(\"Fraction of mistakes after %d iterations:\" % T, n_mistakes / (T))\n",
    "    \n",
    "    return np.array(n_mistakes_over_time)"
   ]
  },
  {
   "cell_type": "markdown",
   "metadata": {},
   "source": [
    "# Online BBM "
   ]
  },
  {
   "cell_type": "code",
   "execution_count": 35,
   "metadata": {},
   "outputs": [],
   "source": [
    "def onlineBBM(weak_learners, T):\n",
    "\n",
    "    # keep track of metrics every 100 iterations\n",
    "    n_mistakes = 0 \n",
    "    n_mistakes_WL = np.zeros(len(weak_learners))\n",
    "    n_mistakes_over_time = []\n",
    "    \n",
    "    # parameters\n",
    "    gamma = 0.05\n",
    "    N = len(weak_learners)\n",
    "    s = np.zeros(N+1)\n",
    "    k = np.zeros(N+1)\n",
    "    w = np.zeros(N+1)\n",
    "    max_w = np.zeros(N+1)\n",
    "    \n",
    "    # T loop\n",
    "    for t, data in enumerate(trainloader, 1):\n",
    "        \n",
    "        # perform T iterations\n",
    "        if t > T: break\n",
    "        \n",
    "        # receive example and label\n",
    "        x, y = data\n",
    "        \n",
    "        # predict y\n",
    "        y_hat = predict_WL_alg1(weak_learners, x)        \n",
    "        \n",
    "        # N loop\n",
    "        for j in range(1,N+1):\n",
    "            \n",
    "            # update values\n",
    "            prediction = predict_WL(weak_learners, x, j-1)\n",
    "            s[j] = s[j-1] + y * prediction\n",
    "            k[j] = np.floor((N - j - s[j-1] + 1)/2)\n",
    "            binom_term = 0 if (k[j] < 0 or k[j] > N - j) else binom(N-j, k[j])\n",
    "            w[j] = binom_term * np.power(1/2 + gamma/2, k[j]) * np.power(1/2 - gamma/2, N - j - k[j])\n",
    "            max_w[j] = max(w[j], max_w[j]) \n",
    "            \n",
    "            # count number of mistakes of weak learner\n",
    "            n_mistakes_WL[j-1] += (prediction != y).item()\n",
    "            \n",
    "            # pass training example to WL j with some probability  \n",
    "            prob = 0 if max_w[j] == 0 else w[j]/max_w[j]\n",
    "            if np.random.random_sample() < prob:\n",
    "                update_WL(weak_learners, x, y, j-1)\n",
    "                \n",
    "        # evaluate mistakes\n",
    "        n_mistakes += (y_hat != y).item()\n",
    "        if t % plt_interval == 0:\n",
    "            n_mistakes_over_time.append(n_mistakes)\n",
    "        if t % 1000 == 0:\n",
    "            print(\"Fraction of mistakes by time %d\" % t, n_mistakes / t)\n",
    "            \n",
    "    print(\"Fraction of mistakes after %d iterations:\" % T, n_mistakes / (T))\n",
    "        \n",
    "    # output edge of each weak learner\n",
    "    print(\"Edges of weak learners:\\n\", 0.5 - n_mistakes_WL / T)\n",
    "                \n",
    "    return n_mistakes_over_time"
   ]
  },
  {
   "cell_type": "markdown",
   "metadata": {},
   "source": [
    "# AdaBoost OL"
   ]
  },
  {
   "cell_type": "code",
   "execution_count": 36,
   "metadata": {},
   "outputs": [],
   "source": [
    "def adaboostOL(weak_learners, T):\n",
    "    \n",
    "    # keep track of metrics every 100 iterations\n",
    "    n_mistakes = 0    \n",
    "    n_mistakes_WL = np.zeros(len(weak_learners))\n",
    "    n_mistakes_over_time = []\n",
    "    \n",
    "    # parameters\n",
    "    N = len(weak_learners)    \n",
    "    v = np.ones(N)\n",
    "    alpha = np.zeros(N)\n",
    "    y_hat = np.zeros(N+1)\n",
    "    z = np.zeros(N+1)\n",
    "    s = np.zeros(N+1)\n",
    "    \n",
    "    # T loop\n",
    "    for t, data in enumerate(trainloader, 1):\n",
    "        \n",
    "        # perform T iterations\n",
    "        if t > T: break\n",
    "        \n",
    "        # receive example and label\n",
    "        x, y = data\n",
    "        \n",
    "        # predict y wrt each WL\n",
    "        prediction = 0\n",
    "        for j in range(N):            \n",
    "            prediction += alpha[j] * predict_WL(weak_learners, x, j)\n",
    "            y_hat[j] = -1 if (np.sign(prediction) < 0) else 1\n",
    "            \n",
    "        # model randomly chooses prediction of some WL\n",
    "        v = v / np.sum(v)\n",
    "        idx = np.random.choice(N, size=1, p=v)\n",
    "        y_hat_final = y_hat[idx]\n",
    "        \n",
    "        # N loop\n",
    "        for j in range(1,N+1):\n",
    "            \n",
    "            # set values\n",
    "            prediction = predict_WL(weak_learners, x, j-1)\n",
    "            z[j] = y * prediction\n",
    "            s[j] = s[j-1] + alpha[j-1] * z[j]\n",
    "            alpha[j-1] = max(-2, min(2, alpha[j-1] + (4 * z[j] / np.sqrt(t)) / (1 + np.exp(s[j]))))\n",
    "            \n",
    "            # count number of mistakes of weak learner\n",
    "            n_mistakes_WL[j-1] += (prediction != y).item()\n",
    "            \n",
    "            # pass training example to WL j with some probability\n",
    "            if np.random.random_sample() < 1 / (1 + np.exp(s[j-1])):\n",
    "                update_WL(weak_learners, x, y, j-1)\n",
    "                \n",
    "            # update v\n",
    "            indic = -1 if (y_hat_final != y) else 0\n",
    "            v[j-1] = v[j-1] * np.exp(indic)\n",
    "            \n",
    "        # evaluate mistakes\n",
    "        n_mistakes += (y_hat_final != y).item()\n",
    "        if t % plt_interval == 0:\n",
    "            n_mistakes_over_time.append(n_mistakes)\n",
    "        if t % 1000 == 0:\n",
    "            print(\"Fraction of mistakes by time %d\" % t, n_mistakes / t)\n",
    "            \n",
    "    print(\"Fraction of mistakes after %d iterations:\" % T, n_mistakes / (T))\n",
    "       \n",
    "    # output edge of each weak learner\n",
    "    print(\"Edges of weak learners:\\n\", 0.5 - n_mistakes_WL / T)\n",
    "    \n",
    "    return n_mistakes_over_time, alpha"
   ]
  },
  {
   "cell_type": "markdown",
   "metadata": {},
   "source": [
    "## Evaluate Models on Test Set"
   ]
  },
  {
   "cell_type": "code",
   "execution_count": 37,
   "metadata": {},
   "outputs": [],
   "source": [
    "import torch.optim as optim\n",
    "import matplotlib.pyplot as plt\n",
    "\n",
    "# plot variables\n",
    "plt_interval = 50"
   ]
  },
  {
   "cell_type": "code",
   "execution_count": 38,
   "metadata": {},
   "outputs": [],
   "source": [
    "def evaluate_WLs(weak_learners):\n",
    "    print(\"EVALUATING WEAK LEARNERS\")\n",
    "    \n",
    "    for i in range(len(weak_learners)):\n",
    "        correct = 0\n",
    "        with torch.no_grad():\n",
    "            for data in testloader:\n",
    "                x, y = data\n",
    "                prediction = predict_WL(weak_learners, x, i)\n",
    "                correct += (prediction == y).sum().item()\n",
    "        print('Accuracy of weak learner', i, 'on the 2000 test images: %d %%' % (100 * correct / len(testloader)))\n",
    "        \n",
    "def evaluate_model_onlineBBM(weak_learners):\n",
    "    print(\"\\nEVALUATING MODEL\")\n",
    "    \n",
    "    N = len(weak_learners)\n",
    "    correct = 0\n",
    "    with torch.no_grad():\n",
    "        for data in testloader: \n",
    "            x, y = data\n",
    "            prediction = predict_WL_alg1(weak_learners, x)\n",
    "            correct += (prediction == y).sum().item()\n",
    "    print('Accuracy of the network on the 2000 test images: %d %%' % (100 * correct / len(testloader)))\n",
    "    \n",
    "def evaluate_model_adaboostOL(weak_learners, alpha):\n",
    "    print(\"\\nEVALUATING MODEL\")\n",
    "    \n",
    "    N = len(weak_learners)\n",
    "    correct = 0\n",
    "    total = 0\n",
    "    with torch.no_grad():\n",
    "        for data in testloader:\n",
    "            x, y = data\n",
    "            prediction = predict_WL_alg2(weak_learners, x, alpha, N-1)\n",
    "            correct += (prediction == y).sum().item()\n",
    "    print('Accuracy of the network on the 2000 test images: %d %%' % (100 * correct / len(testloader)))"
   ]
  },
  {
   "cell_type": "markdown",
   "metadata": {},
   "source": [
    "## Evaluate Models Online"
   ]
  },
  {
   "cell_type": "code",
   "execution_count": 39,
   "metadata": {},
   "outputs": [],
   "source": [
    "def plot_loss(T, mistakes):\n",
    "    error_rates = mistakes/ np.arange(plt_interval, T+1, plt_interval)\n",
    "    plt.plot(np.arange(2*plt_interval, T+1, plt_interval), error_rates[1:])\n",
    "    plt.title(\"Fraction of mistakes made online by the strong online learner\")\n",
    "    plt.xlabel(\"Number of Iterations\")\n",
    "    plt.ylabel(\"Loss\")\n",
    "    plt.show()\n",
    "\n",
    "def evaluate_baseline(architecture, T):\n",
    "    print(\"\\033[1mEvaluating Baseline:\\n\\033[0m\")\n",
    "    \n",
    "    weak_learner = np.zeros(1024)\n",
    "    mistakes = baseline(weak_learner, T)\n",
    "    evaluate_WLs([weak_learner])\n",
    "    \n",
    "    plot_loss(T, mistakes)\n",
    "    \n",
    "def evaluate_onlineBBM(N, T, architecture):\n",
    "    print(\"\\033[1mEvaluating Online BBM:\\n\\033[0m\")\n",
    "    \n",
    "    # initialize N weak learners\n",
    "    weak_learners = []\n",
    "    for _ in range(N):\n",
    "        weak_learners.append(np.zeros(1024)) \n",
    "    \n",
    "    # test\n",
    "    mistakes = onlineBBM(weak_learners, T)\n",
    "    print()\n",
    "    evaluate_WLs(weak_learners)\n",
    "    print()\n",
    "    evaluate_model_onlineBBM(weak_learners)\n",
    "    \n",
    "    plot_loss(T, mistakes)\n",
    "    \n",
    "def evaluate_adaboostOL(N, T, architecture):\n",
    "    print(\"\\033[1mEvaluating AdaBoost OL:\\n\\033[0m\")\n",
    "    \n",
    "    # initialize N weak learners\n",
    "    weak_learners = []\n",
    "    for _ in range(N):\n",
    "        weak_learners.append(np.zeros(1024)) \n",
    "        \n",
    "    mistakes, alpha = adaboostOL(weak_learners, T)\n",
    "    print()\n",
    "    evaluate_WLs(weak_learners)\n",
    "    print()\n",
    "    evaluate_model_adaboostOL(weak_learners, alpha)\n",
    "    \n",
    "    plot_loss(T, mistakes)"
   ]
  },
  {
   "cell_type": "markdown",
   "metadata": {},
   "source": [
    "## Baseline"
   ]
  },
  {
   "cell_type": "code",
   "execution_count": 40,
   "metadata": {},
   "outputs": [
    {
     "name": "stdout",
     "output_type": "stream",
     "text": [
      "\u001b[1mEvaluating Baseline:\n",
      "\u001b[0m\n"
     ]
    },
    {
     "ename": "IndexError",
     "evalue": "Traceback (most recent call last):\n  File \"/home/ubuntu/anaconda3/lib/python3.6/site-packages/torch/utils/data/dataloader.py\", line 57, in _worker_loop\n    samples = collate_fn([dataset[i] for i in batch_indices])\n  File \"/home/ubuntu/anaconda3/lib/python3.6/site-packages/torch/utils/data/dataloader.py\", line 57, in <listcomp>\n    samples = collate_fn([dataset[i] for i in batch_indices])\n  File \"/home/ubuntu/anaconda3/lib/python3.6/site-packages/torchvision/datasets/cifar.py\", line 118, in __getitem__\n    img = Image.fromarray(img)\n  File \"/home/ubuntu/anaconda3/lib/python3.6/site-packages/PIL/Image.py\", line 2438, in fromarray\n    size = shape[1], shape[0]\nIndexError: tuple index out of range\n",
     "output_type": "error",
     "traceback": [
      "\u001b[0;31m---------------------------------------------------------------------------\u001b[0m",
      "\u001b[0;31mIndexError\u001b[0m                                Traceback (most recent call last)",
      "\u001b[0;32m<ipython-input-40-432a83db5932>\u001b[0m in \u001b[0;36m<module>\u001b[0;34m()\u001b[0m\n\u001b[0;32m----> 1\u001b[0;31m \u001b[0mevaluate_baseline\u001b[0m\u001b[0;34m(\u001b[0m\u001b[0marchitecture\u001b[0m\u001b[0;34m=\u001b[0m\u001b[0;36m0\u001b[0m\u001b[0;34m,\u001b[0m \u001b[0mT\u001b[0m\u001b[0;34m=\u001b[0m\u001b[0;36m20000\u001b[0m\u001b[0;34m)\u001b[0m\u001b[0;34m\u001b[0m\u001b[0m\n\u001b[0m",
      "\u001b[0;32m<ipython-input-39-265b2580851a>\u001b[0m in \u001b[0;36mevaluate_baseline\u001b[0;34m(architecture, T)\u001b[0m\n\u001b[1;32m     11\u001b[0m \u001b[0;34m\u001b[0m\u001b[0m\n\u001b[1;32m     12\u001b[0m     \u001b[0mweak_learner\u001b[0m \u001b[0;34m=\u001b[0m \u001b[0mnp\u001b[0m\u001b[0;34m.\u001b[0m\u001b[0mzeros\u001b[0m\u001b[0;34m(\u001b[0m\u001b[0;36m1024\u001b[0m\u001b[0;34m)\u001b[0m\u001b[0;34m\u001b[0m\u001b[0m\n\u001b[0;32m---> 13\u001b[0;31m     \u001b[0mmistakes\u001b[0m \u001b[0;34m=\u001b[0m \u001b[0mbaseline\u001b[0m\u001b[0;34m(\u001b[0m\u001b[0mweak_learner\u001b[0m\u001b[0;34m,\u001b[0m \u001b[0mT\u001b[0m\u001b[0;34m)\u001b[0m\u001b[0;34m\u001b[0m\u001b[0m\n\u001b[0m\u001b[1;32m     14\u001b[0m     \u001b[0mevaluate_WLs\u001b[0m\u001b[0;34m(\u001b[0m\u001b[0;34m[\u001b[0m\u001b[0mweak_learner\u001b[0m\u001b[0;34m]\u001b[0m\u001b[0;34m)\u001b[0m\u001b[0;34m\u001b[0m\u001b[0m\n\u001b[1;32m     15\u001b[0m \u001b[0;34m\u001b[0m\u001b[0m\n",
      "\u001b[0;32m<ipython-input-34-03fb5e30775a>\u001b[0m in \u001b[0;36mbaseline\u001b[0;34m(weak_learner, T)\u001b[0m\n\u001b[1;32m      6\u001b[0m \u001b[0;34m\u001b[0m\u001b[0m\n\u001b[1;32m      7\u001b[0m     \u001b[0;31m# training\u001b[0m\u001b[0;34m\u001b[0m\u001b[0;34m\u001b[0m\u001b[0m\n\u001b[0;32m----> 8\u001b[0;31m     \u001b[0;32mfor\u001b[0m \u001b[0mt\u001b[0m\u001b[0;34m,\u001b[0m \u001b[0mdata\u001b[0m \u001b[0;32min\u001b[0m \u001b[0menumerate\u001b[0m\u001b[0;34m(\u001b[0m\u001b[0mtrainloader\u001b[0m\u001b[0;34m,\u001b[0m \u001b[0;36m1\u001b[0m\u001b[0;34m)\u001b[0m\u001b[0;34m:\u001b[0m\u001b[0;34m\u001b[0m\u001b[0m\n\u001b[0m\u001b[1;32m      9\u001b[0m         \u001b[0;31m# perform T iterations\u001b[0m\u001b[0;34m\u001b[0m\u001b[0;34m\u001b[0m\u001b[0m\n\u001b[1;32m     10\u001b[0m         \u001b[0;32mif\u001b[0m \u001b[0mt\u001b[0m \u001b[0;34m>\u001b[0m \u001b[0mT\u001b[0m\u001b[0;34m:\u001b[0m \u001b[0;32mbreak\u001b[0m\u001b[0;34m\u001b[0m\u001b[0m\n",
      "\u001b[0;32m~/anaconda3/lib/python3.6/site-packages/torch/utils/data/dataloader.py\u001b[0m in \u001b[0;36m__next__\u001b[0;34m(self)\u001b[0m\n\u001b[1;32m    284\u001b[0m                 \u001b[0mself\u001b[0m\u001b[0;34m.\u001b[0m\u001b[0mreorder_dict\u001b[0m\u001b[0;34m[\u001b[0m\u001b[0midx\u001b[0m\u001b[0;34m]\u001b[0m \u001b[0;34m=\u001b[0m \u001b[0mbatch\u001b[0m\u001b[0;34m\u001b[0m\u001b[0m\n\u001b[1;32m    285\u001b[0m                 \u001b[0;32mcontinue\u001b[0m\u001b[0;34m\u001b[0m\u001b[0m\n\u001b[0;32m--> 286\u001b[0;31m             \u001b[0;32mreturn\u001b[0m \u001b[0mself\u001b[0m\u001b[0;34m.\u001b[0m\u001b[0m_process_next_batch\u001b[0m\u001b[0;34m(\u001b[0m\u001b[0mbatch\u001b[0m\u001b[0;34m)\u001b[0m\u001b[0;34m\u001b[0m\u001b[0m\n\u001b[0m\u001b[1;32m    287\u001b[0m \u001b[0;34m\u001b[0m\u001b[0m\n\u001b[1;32m    288\u001b[0m     \u001b[0mnext\u001b[0m \u001b[0;34m=\u001b[0m \u001b[0m__next__\u001b[0m  \u001b[0;31m# Python 2 compatibility\u001b[0m\u001b[0;34m\u001b[0m\u001b[0m\n",
      "\u001b[0;32m~/anaconda3/lib/python3.6/site-packages/torch/utils/data/dataloader.py\u001b[0m in \u001b[0;36m_process_next_batch\u001b[0;34m(self, batch)\u001b[0m\n\u001b[1;32m    305\u001b[0m         \u001b[0mself\u001b[0m\u001b[0;34m.\u001b[0m\u001b[0m_put_indices\u001b[0m\u001b[0;34m(\u001b[0m\u001b[0;34m)\u001b[0m\u001b[0;34m\u001b[0m\u001b[0m\n\u001b[1;32m    306\u001b[0m         \u001b[0;32mif\u001b[0m \u001b[0misinstance\u001b[0m\u001b[0;34m(\u001b[0m\u001b[0mbatch\u001b[0m\u001b[0;34m,\u001b[0m \u001b[0mExceptionWrapper\u001b[0m\u001b[0;34m)\u001b[0m\u001b[0;34m:\u001b[0m\u001b[0;34m\u001b[0m\u001b[0m\n\u001b[0;32m--> 307\u001b[0;31m             \u001b[0;32mraise\u001b[0m \u001b[0mbatch\u001b[0m\u001b[0;34m.\u001b[0m\u001b[0mexc_type\u001b[0m\u001b[0;34m(\u001b[0m\u001b[0mbatch\u001b[0m\u001b[0;34m.\u001b[0m\u001b[0mexc_msg\u001b[0m\u001b[0;34m)\u001b[0m\u001b[0;34m\u001b[0m\u001b[0m\n\u001b[0m\u001b[1;32m    308\u001b[0m         \u001b[0;32mreturn\u001b[0m \u001b[0mbatch\u001b[0m\u001b[0;34m\u001b[0m\u001b[0m\n\u001b[1;32m    309\u001b[0m \u001b[0;34m\u001b[0m\u001b[0m\n",
      "\u001b[0;31mIndexError\u001b[0m: Traceback (most recent call last):\n  File \"/home/ubuntu/anaconda3/lib/python3.6/site-packages/torch/utils/data/dataloader.py\", line 57, in _worker_loop\n    samples = collate_fn([dataset[i] for i in batch_indices])\n  File \"/home/ubuntu/anaconda3/lib/python3.6/site-packages/torch/utils/data/dataloader.py\", line 57, in <listcomp>\n    samples = collate_fn([dataset[i] for i in batch_indices])\n  File \"/home/ubuntu/anaconda3/lib/python3.6/site-packages/torchvision/datasets/cifar.py\", line 118, in __getitem__\n    img = Image.fromarray(img)\n  File \"/home/ubuntu/anaconda3/lib/python3.6/site-packages/PIL/Image.py\", line 2438, in fromarray\n    size = shape[1], shape[0]\nIndexError: tuple index out of range\n"
     ]
    }
   ],
   "source": [
    "evaluate_baseline(architecture=0, T=20000)"
   ]
  },
  {
   "cell_type": "markdown",
   "metadata": {},
   "source": [
    "## Online BBM"
   ]
  },
  {
   "cell_type": "code",
   "execution_count": null,
   "metadata": {},
   "outputs": [],
   "source": [
    "evaluate_onlineBBM(N=5, T=20000, architecture=2)"
   ]
  },
  {
   "cell_type": "markdown",
   "metadata": {},
   "source": [
    "## Adaboost.OL"
   ]
  },
  {
   "cell_type": "code",
   "execution_count": null,
   "metadata": {},
   "outputs": [],
   "source": [
    "evaluate_adaboostOL(N=5, T=20000, architecture=2)"
   ]
  },
  {
   "cell_type": "markdown",
   "metadata": {},
   "source": [
    "## Run Experiments"
   ]
  },
  {
   "cell_type": "code",
   "execution_count": 21,
   "metadata": {},
   "outputs": [],
   "source": [
    "def run_experiment(T=10000, N=10, net=0, model=\"bbm\"):\n",
    "    evaluate = dict(bbm=evaluate_onlineBBM, adaboost=evaluate_adaboostOL)\n",
    "    evaluate[model](N, T, net)\n",
    "    \n",
    "# ignore net input"
   ]
  },
  {
   "cell_type": "code",
   "execution_count": null,
   "metadata": {},
   "outputs": [],
   "source": [
    "run_experiment(T=20000, N=5, net=0, model=\"adaboost\")"
   ]
  },
  {
   "cell_type": "markdown",
   "metadata": {
    "collapsed": true
   },
   "source": [
    "## Citations"
   ]
  },
  {
   "cell_type": "markdown",
   "metadata": {},
   "source": [
    "Code for CNN: https://pytorch.org/tutorials/beginner/blitz/cifar10_tutorial.html\n",
    "\n",
    "Online algorithms: http://proceedings.mlr.press/v37/beygelzimer15.pdf"
   ]
  }
 ],
 "metadata": {
  "kernelspec": {
   "display_name": "Python [default]",
   "language": "python",
   "name": "python3"
  },
  "language_info": {
   "codemirror_mode": {
    "name": "ipython",
    "version": 3
   },
   "file_extension": ".py",
   "mimetype": "text/x-python",
   "name": "python",
   "nbconvert_exporter": "python",
   "pygments_lexer": "ipython3",
   "version": "3.6.4"
  }
 },
 "nbformat": 4,
 "nbformat_minor": 2
}
