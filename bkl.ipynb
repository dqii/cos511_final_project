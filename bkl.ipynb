{
 "cells": [
  {
   "cell_type": "markdown",
   "metadata": {},
   "source": [
    "# A PyTorch Implementation of Algorithms in Optimal and Adaptive Algorithms for Online Boosting"
   ]
  },
  {
   "cell_type": "markdown",
   "metadata": {},
   "source": [
    "## Dependencies: \n",
    "PyTorch, matplotlib, numpy\n",
    "\n",
    "## Implementation Note\n",
    "\n",
    "I consider labels of the form {0, 1} and cast to {-1, +1} where needed. This may not be appropriate or necessary, and may be changed in the future.\n",
    "\n",
    "## Todo:\n",
    "\n",
    "I want to modularize this further by adjusting how we accept data.\n",
    "\n",
    "So with regards to data, I also want to change the labels to {-1, +1} by default instead of this stupid converting from {0, 1} process. ---> Not possible :("
   ]
  },
  {
   "cell_type": "markdown",
   "metadata": {},
   "source": [
    "## Setup"
   ]
  },
  {
   "cell_type": "code",
   "execution_count": 1,
   "metadata": {},
   "outputs": [
    {
     "name": "stdout",
     "output_type": "stream",
     "text": [
      "Files already downloaded and verified\n",
      "Files already downloaded and verified\n",
      "Data loaded:\n",
      "- Training set size: 10000\n",
      "- Test set size: 2000\n"
     ]
    }
   ],
   "source": [
    "import torch\n",
    "import torchvision\n",
    "import torchvision.transforms as transforms\n",
    "import numpy as np\n",
    "\n",
    "transform = transforms.Compose(\n",
    "   [transforms.ToTensor(),\n",
    "    transforms.Normalize((0.5, 0.5, 0.5), (0.5, 0.5, 0.5))])\n",
    "\n",
    "# get CIFAR10 dataset\n",
    "trainset = torchvision.datasets.CIFAR10(root='./data', train=True,\n",
    "                                        download=True, transform=transform)\n",
    "testset = torchvision.datasets.CIFAR10(root='./data', train=False,\n",
    "                                       download=True, transform=transform)\n",
    "\n",
    "# classes = ('plane', 'car', 'bird', 'cat', 'deer', 'dog', 'frog', 'horse', 'ship', 'truck')\n",
    "classes = ('cat', 'dog', 'bird', 'cat', 'deer', 'dog', 'frog', 'horse', 'ship', 'truck')\n",
    "\n",
    "# create binary dataset \n",
    "label1 = 3; label2 = 5 # change if desired\n",
    "trainset.train_labels = np.array(trainset.train_labels)\n",
    "testset.test_labels = np.array(testset.test_labels)\n",
    "\n",
    "# adjust train set\n",
    "mask = (trainset.train_labels == label1) | (trainset.train_labels == label2)\n",
    "trainset.train_data=trainset.train_data[mask]\n",
    "trainset.train_labels=trainset.train_labels[mask]\n",
    "mask1 = (trainset.train_labels == label1)\n",
    "mask2 = (trainset.train_labels == label2)\n",
    "trainset.train_labels[mask1] = 0\n",
    "trainset.train_labels[mask2] = 1\n",
    "\n",
    "# adjust test set\n",
    "mask = (testset.test_labels == label1) | (testset.test_labels == label2)\n",
    "testset.test_data=testset.test_data[mask]\n",
    "testset.test_labels=testset.test_labels[mask]\n",
    "mask1 = (testset.test_labels == label1)\n",
    "mask2 = (testset.test_labels == label2)\n",
    "testset.test_labels[mask1] = 0\n",
    "testset.test_labels[mask2] = 1\n",
    "\n",
    "# load datasets for experiments: 1 at a time for training; 8 at a time for testing\n",
    "trainloader = torch.utils.data.DataLoader(trainset, batch_size=1,\n",
    "                                          shuffle=True, num_workers=2)\n",
    "testloader = torch.utils.data.DataLoader(testset, batch_size=1,\n",
    "                                         shuffle=False, num_workers=2)\n",
    "\n",
    "print(\"Data loaded:\")\n",
    "print(\"- Training set size:\", len(trainset))\n",
    "print(\"- Test set size:\", len(testset))"
   ]
  },
  {
   "cell_type": "code",
   "execution_count": 2,
   "metadata": {},
   "outputs": [
    {
     "name": "stderr",
     "output_type": "stream",
     "text": [
      "/home/ubuntu/anaconda3/lib/python3.6/site-packages/matplotlib/__init__.py:1067: UserWarning: Duplicate key in file \"/home/ubuntu/.config/matplotlib/matplotlibrc\", line #2\n",
      "  (fname, cnt))\n",
      "/home/ubuntu/anaconda3/lib/python3.6/site-packages/matplotlib/__init__.py:1067: UserWarning: Duplicate key in file \"/home/ubuntu/.config/matplotlib/matplotlibrc\", line #3\n",
      "  (fname, cnt))\n"
     ]
    },
    {
     "data": {
      "text/plain": [
       "<Figure size 640x480 with 1 Axes>"
      ]
     },
     "metadata": {},
     "output_type": "display_data"
    },
    {
     "name": "stdout",
     "output_type": "stream",
     "text": [
      "  cat   cat   dog   dog   dog   dog   dog   dog\n"
     ]
    }
   ],
   "source": [
    "import matplotlib.pyplot as plt\n",
    "\n",
    "# functions to show an image\n",
    "def imshow(img):\n",
    "    img = img / 2 + 0.5     # unnormalize\n",
    "    npimg = img.numpy()\n",
    "    plt.imshow(np.transpose(npimg, (1, 2, 0)))\n",
    "    plt.show()\n",
    "\n",
    "# get some random training images\n",
    "dataiter = iter(testloader)\n",
    "images = []; labels = []\n",
    "img_count = 8\n",
    "for _ in range(img_count):\n",
    "    image, label = dataiter.next()\n",
    "    images.append(image)\n",
    "    labels.append(label)\n",
    "images = torch.from_numpy(np.concatenate(images, 0))\n",
    "labels = torch.from_numpy(np.concatenate(labels, 0))\n",
    "\n",
    "# show images\n",
    "imshow(torchvision.utils.make_grid(images))\n",
    "# print labels\n",
    "print(' '.join('%5s' % classes[labels[j]] for j in range(img_count)))"
   ]
  },
  {
   "cell_type": "code",
   "execution_count": 3,
   "metadata": {},
   "outputs": [],
   "source": [
    "# neural net\n",
    "import torch.nn as nn\n",
    "import torch.nn.functional as F\n",
    "\n",
    "class Net(nn.Module):\n",
    "    def __init__(self):\n",
    "        super(Net, self).__init__()\n",
    "        self.conv1 = nn.Conv2d(3, 6, 5)\n",
    "        self.pool = nn.MaxPool2d(2, 2)\n",
    "        self.conv2 = nn.Conv2d(6, 16, 5)\n",
    "        self.fc1 = nn.Linear(16 * 5 * 5, 2)\n",
    "\n",
    "    def forward(self, x):\n",
    "        x = self.pool(F.relu(self.conv1(x)))\n",
    "        x = self.pool(F.relu(self.conv2(x)))\n",
    "        x = x.view(-1, 16 * 5 * 5)\n",
    "        x = self.fc1(x)\n",
    "        return x\n",
    "\n",
    "class Net_zero(nn.Module):\n",
    "    def __init__(self):\n",
    "        super(Net, self).__init__()\n",
    "        self.conv1 = nn.Conv2d(3, 6, 5)\n",
    "        self.fc1 = nn.Linear(6 * 5 * 5, 2)\n",
    "\n",
    "    def forward(self, x):\n",
    "        x = self.pool(F.relu(self.conv1(x)))\n",
    "        x = self.pool(F.relu(self.conv2(x)))\n",
    "        x = x.view(-1, 16 * 5 * 5)\n",
    "        x = self.fc1(x)\n",
    "        return x"
   ]
  },
  {
   "cell_type": "code",
   "execution_count": 4,
   "metadata": {},
   "outputs": [],
   "source": [
    "# loss to use\n",
    "criterion = nn.CrossEntropyLoss()   \n",
    "\n",
    "# binomial helper function\n",
    "def binom(a, b):\n",
    "    return np.math.factorial(a) / (np.math.factorial(a-b) * np.math.factorial(b))\n",
    "\n",
    "# get output of weak learner i\n",
    "# o.w. get output of combination of WLs    \n",
    "def predict_WL(weak_learners, x, i=0):\n",
    "    with torch.no_grad():\n",
    "        net, _ = weak_learners[i]\n",
    "        output = net(x)\n",
    "        _, predict = torch.max(output.data, 1)\n",
    "        return predict\n",
    "\n",
    "# update weak learner i\n",
    "def update_WL(weak_learners, x, y, i):\n",
    "    net, optimizer = weak_learners[i]\n",
    "    optimizer.zero_grad()\n",
    "    output = net(x)\n",
    "    loss = criterion(output, y)\n",
    "    loss.backward()\n",
    "    optimizer.step()\n",
    "    \n",
    "# get output of combination of WLs (unweighted)\n",
    "def predict_WL_alg1(weak_learners, x):    \n",
    "    N = len(weak_learners)\n",
    "    prediction = 0\n",
    "    for i in range(N):\n",
    "        prediction += predict_WL(weak_learners, x, i)\n",
    "    return 0 if (prediction < N/2) else 1\n",
    "\n",
    "# get output of combination of WLs (weighted)\n",
    "def predict_WL_alg2(weak_learners, x, alpha, i):\n",
    "    N = len(weak_learners)\n",
    "    prediction = 0\n",
    "    for j in range(0, i+1):\n",
    "        prediction += alpha[j] * (2 * predict_WL(weak_learners, x, j) - 1)\n",
    "    return 0 if (np.sign(prediction) < 0) else 1"
   ]
  },
  {
   "cell_type": "code",
   "execution_count": 5,
   "metadata": {},
   "outputs": [],
   "source": [
    "# algorithm 0: online weak learner\n",
    "def baseline(weak_learner):\n",
    "    \n",
    "    # keep track of metrics every 100 iterations\n",
    "    n_mistakes = 0    \n",
    "    n_mistakes_over_time = []\n",
    "    \n",
    "    # training\n",
    "    net, optimizer = weak_learner    \n",
    "    for t, data in enumerate(trainloader, 1):\n",
    "        x, y = data        \n",
    "        optimizer.zero_grad()\n",
    "        output = net(x)        \n",
    "        loss = criterion(output, y)\n",
    "        _, predict = torch.max(output.data, 1)\n",
    "        loss.backward()\n",
    "        optimizer.step()\n",
    "        \n",
    "        n_mistakes += (predict != y).item()\n",
    "        if t % 100 == 0:\n",
    "            n_mistakes_over_time.append(n_mistakes)\n",
    "    \n",
    "    return np.array(n_mistakes_over_time)"
   ]
  },
  {
   "cell_type": "markdown",
   "metadata": {},
   "source": [
    "# Online BBM "
   ]
  },
  {
   "cell_type": "code",
   "execution_count": 33,
   "metadata": {},
   "outputs": [],
   "source": [
    "def onlineBBM(weak_learners, T):\n",
    "\n",
    "    # keep track of metrics every 100 iterations\n",
    "    n_mistakes = 0    \n",
    "    n_mistakes_over_time = []\n",
    "    \n",
    "    # parameters\n",
    "    gamma = 0.1    \n",
    "    N = len(weak_learners)\n",
    "    s = np.zeros(N+1)\n",
    "    k = np.zeros(N+1)\n",
    "    w = np.zeros(N+1)\n",
    "    max_w = np.zeros(N+1)\n",
    "    \n",
    "    # T loop\n",
    "    for t, data in enumerate(trainloader, 0):\n",
    "        \n",
    "        # perform T iterations\n",
    "        if t >= T: \n",
    "            print(\"Fraction of mistakes at the end of training:\", n_mistakes / (T))\n",
    "            break\n",
    "        \n",
    "        # receive example and label\n",
    "        x, y = data        \n",
    "        \n",
    "        # predict y\n",
    "        y_hat = predict_WL_alg1(weak_learners, x)        \n",
    "        \n",
    "        # N loop\n",
    "        for j in range(1,N+1):\n",
    "            \n",
    "            # update values\n",
    "            s[j] = s[j-1] + (2*y - 1) * predict_WL(weak_learners, x, j-1)\n",
    "            k[j] = np.floor((N - j - s[j-1] + 1)/2)\n",
    "            binom_term = 0 if (k[j] < 0 or k[j] > N - j) else binom(N-j, k[j])\n",
    "            w[j] = binom_term * np.power(1/2 + gamma/2, k[j]) * np.power(1/2 - gamma/2, N - j - k[j])\n",
    "            max_w[j] = max(w[j], max_w[j])            \n",
    "            \n",
    "            # pass training example to WL j with some probability  \n",
    "            prob = 0 if max_w[j] == 0 else w[j]/max_w[j]\n",
    "            if np.random.random_sample() < w[j]/max_w[j]: # what to take max over\n",
    "                update_WL(weak_learners, x, y, j-1)\n",
    "                \n",
    "        # evaluate mistakes\n",
    "        n_mistakes += (y_hat != y).item()\n",
    "        if (t+1) % 50 == 0:\n",
    "            n_mistakes_over_time.append(n_mistakes)\n",
    "        if (t+1) % 1000 == 0:\n",
    "            print(\"Fraction of mistakes by time %d\" % (t+1), n_mistakes / (t+1))\n",
    "                \n",
    "    return n_mistakes_over_time"
   ]
  },
  {
   "cell_type": "markdown",
   "metadata": {},
   "source": [
    "# AdaBoost OL"
   ]
  },
  {
   "cell_type": "code",
   "execution_count": 34,
   "metadata": {},
   "outputs": [],
   "source": [
    "def adaboostOL(weak_learners, T):\n",
    "    \n",
    "    # keep track of metrics every 100 iterations\n",
    "    n_mistakes = 0    \n",
    "    n_mistakes_over_time = []\n",
    "    \n",
    "    # parameters\n",
    "    N = len(weak_learners)    \n",
    "    v = np.ones(N)\n",
    "    alpha = np.zeros(N)\n",
    "    y_hat = np.zeros(N+1)\n",
    "    z = np.zeros(N+1)\n",
    "    s = np.zeros(N+1)\n",
    "    \n",
    "    # T loop\n",
    "    for t, data in enumerate(trainloader, 0):\n",
    "        \n",
    "        # perform T iterations\n",
    "        if t >= T: \n",
    "            print(\"Fraction of mistakes at the end of training:\", n_mistakes / (T))\n",
    "            break\n",
    "        \n",
    "        # receive example and label\n",
    "        x, y = data\n",
    "        \n",
    "        # predict y wrt each WL\n",
    "        for j in range(N):\n",
    "            y_hat[j] = predict_WL_alg2(weak_learners, x, alpha, j)\n",
    "            \n",
    "        # model randomly chooses prediction of some WL\n",
    "        v = v / np.sum(v)\n",
    "        idx = np.random.choice(N, size=1, p=v)\n",
    "        y_hat_final = y_hat[idx]\n",
    "        \n",
    "        # N loop\n",
    "        for j in range(1,N+1):\n",
    "            \n",
    "            # set values\n",
    "            z[j] = (2*y - 1) * predict_WL(weak_learners, x, j-1)\n",
    "            s[j] = s[j-1] + alpha[j-1] * z[j]\n",
    "            alpha[j-1] = max(-2, min(2, alpha[j-1] + (4 * z[j] / np.sqrt(t)) / (1 + np.exp(s[j]))))\n",
    "            \n",
    "            # pass training example to WL j with some probability\n",
    "            if np.random.random_sample() < 1 / (1 + np.exp(s[j-1])):\n",
    "                update_WL(weak_learners, x, y, j-1)\n",
    "                \n",
    "            # update v\n",
    "            indic = -1 if (y_hat_final != y) else 0\n",
    "            v[j-1] = v[j-1] * np.exp(indic)\n",
    "            \n",
    "        # evaluate mistakes\n",
    "        n_mistakes += (y_hat_final != y).item()\n",
    "        if (t+1) % 50 == 0:\n",
    "            n_mistakes_over_time.append(n_mistakes)\n",
    "        if (t+1) % 1000 == 0:\n",
    "            print(\"Fraction of mistakes by time %d\" % (t+1), n_mistakes / (t+1))\n",
    "            \n",
    "    return n_mistakes_over_time, alpha"
   ]
  },
  {
   "cell_type": "code",
   "execution_count": 27,
   "metadata": {},
   "outputs": [
    {
     "name": "stdout",
     "output_type": "stream",
     "text": [
      "GPU is available.\n"
     ]
    }
   ],
   "source": [
    "import torch.optim as optim\n",
    "import matplotlib.pyplot as plt\n",
    "\n",
    "# plot variables\n",
    "plt_interval = 50\n",
    "\n",
    "# Enable GPU\n",
    "use_gpu = torch.cuda.is_available()\n",
    "if use_gpu:\n",
    "    print(\"GPU is available.\")"
   ]
  },
  {
   "cell_type": "markdown",
   "metadata": {},
   "source": [
    "## Evaluate Models on Test Set"
   ]
  },
  {
   "cell_type": "code",
   "execution_count": 28,
   "metadata": {},
   "outputs": [],
   "source": [
    "def evaluate_WLs(weak_learners):\n",
    "    print(\"EVALUATING WEAK LEARNERS\")\n",
    "    \n",
    "    for i in range(len(weak_learners)):\n",
    "        correct = 0\n",
    "        with torch.no_grad():\n",
    "            for data in testloader:\n",
    "                x, y = data\n",
    "                prediction = predict_WL(weak_learners, x, i)\n",
    "                correct += (prediction == y).sum().item()\n",
    "        print('Accuracy of weak learner', i, 'on the 2000 test images: %d %%' % (100 * correct / len(testloader)))\n",
    "        \n",
    "def evaluate_model_onlineBBM(weak_learners):\n",
    "    print(\"\\nEVALUATING MODEL\")\n",
    "    \n",
    "    N = len(weak_learners)\n",
    "    correct = 0\n",
    "    with torch.no_grad():\n",
    "        for data in testloader: \n",
    "            x, y = data\n",
    "            prediction = predict_WL_alg1(weak_learners, x)\n",
    "            correct += (prediction == y).sum().item()\n",
    "    print('Accuracy of the network on the 2000 test images: %d %%' % (100 * correct / len(testloader)))\n",
    "    \n",
    "def evaluate_model_adaboostOL(weak_learners, alpha):\n",
    "    print(\"\\nEVALUATING MODEL\")\n",
    "    \n",
    "    N = len(weak_learners)\n",
    "    correct = 0\n",
    "    total = 0\n",
    "    with torch.no_grad():\n",
    "        for data in testloader:\n",
    "            x, y = data\n",
    "            prediction = predict_WL_alg2(weak_learners, x, alpha, N-1)\n",
    "            correct += (prediction == y).sum().item()\n",
    "    print('Accuracy of the network on the 2000 test images: %d %%' % (100 * correct / len(testloader)))"
   ]
  },
  {
   "cell_type": "markdown",
   "metadata": {},
   "source": [
    "## Evaluate Models Online"
   ]
  },
  {
   "cell_type": "code",
   "execution_count": 39,
   "metadata": {},
   "outputs": [],
   "source": [
    "def evaluate_baseline():\n",
    "    print(\"Evaluating Baseline:\")\n",
    "    \n",
    "    net = Net() \n",
    "    optimizer = optim.SGD(net.parameters(), lr=0.001, momentum=0.9)\n",
    "    weak_learner = (net, optimizer)\n",
    "    mistakes = baseline(weak_learner)\n",
    "    evaluate_WLs([weak_learner])\n",
    "    \n",
    "    # plot results\n",
    "    plt.plot(mistakes/ np.arange(100, 10001, 100))\n",
    "    plt.xlabel(\"Number of Iterations\")\n",
    "    plt.ylabel(\"Loss\")\n",
    "    plt.show()\n",
    "    \n",
    "def evaluate_onlineBBM(N, T):\n",
    "    print(\"Evaluating Online BBM:\")\n",
    "    \n",
    "    # initialize N weak learners\n",
    "    weak_learners = []\n",
    "    for _ in range(N):\n",
    "        net = Net()    \n",
    "        optimizer = optim.SGD(net.parameters(), lr=0.001, momentum=0.9)\n",
    "        weak_learners.append((net, optimizer)) \n",
    "        \n",
    "    # test\n",
    "    mistakes = onlineBBM(weak_learners, T)\n",
    "    print()\n",
    "    evaluate_WLs(weak_learners)\n",
    "    print()\n",
    "    evaluate_model_onlineBBM(weak_learners)\n",
    "    \n",
    "    # plot results\n",
    "    error_rates = mistakes/ np.arange(plt_interval, T+1, plt_interval)\n",
    "    plt.plot(np.arange(plt_interval, T+1, plt_interval), error_rates)\n",
    "    plt.xlabel(\"Number of Iterations\")\n",
    "    plt.ylabel(\"Loss\")\n",
    "    plt.show()\n",
    "    \n",
    "def evaluate_adaboostOL(N, T):\n",
    "    print(\"Evaluating AdaBoost OL:\")\n",
    "    \n",
    "    # initialize N weak learners\n",
    "    weak_learners = []\n",
    "    for _ in range(N):\n",
    "        net = Net()    \n",
    "        optimizer = optim.SGD(net.parameters(), lr=0.001, momentum=0.9)\n",
    "        weak_learners.append((net, optimizer)) \n",
    "        \n",
    "    mistakes, alpha = adaboostOL(weak_learners, T)\n",
    "    print()\n",
    "    evaluate_WLs(weak_learners)\n",
    "    print()\n",
    "    evaluate_model_adaboostOL(weak_learners, alpha)\n",
    "    \n",
    "    # plot results\n",
    "    inputs = mistakes/ np.arange(plt_interval, T+1, plt_interval)\n",
    "    plt.plot(inputs)\n",
    "    plt.xlabel(\"Number of Iterations\")\n",
    "    plt.ylabel(\"Loss\")\n",
    "    plt.show()"
   ]
  },
  {
   "cell_type": "markdown",
   "metadata": {},
   "source": [
    "## Baseline"
   ]
  },
  {
   "cell_type": "code",
   "execution_count": 11,
   "metadata": {},
   "outputs": [
    {
     "name": "stdout",
     "output_type": "stream",
     "text": [
      "EVALUATING WEAK LEARNERS\n",
      "Accuracy of weak learner 0 on the 2000 test images: 64 %\n"
     ]
    },
    {
     "data": {
      "image/png": "[encoded data removed]",
      "text/plain": [
       "<Figure size 432x288 with 1 Axes>"
      ]
     },
     "metadata": {},
     "output_type": "display_data"
    }
   ],
   "source": [
    "evaluate_baseline()"
   ]
  },
  {
   "cell_type": "markdown",
   "metadata": {},
   "source": [
    "## Online BBM"
   ]
  },
  {
   "cell_type": "code",
   "execution_count": 32,
   "metadata": {},
   "outputs": [
    {
     "name": "stderr",
     "output_type": "stream",
     "text": [
      "/home/ubuntu/anaconda3/lib/python3.6/site-packages/ipykernel/__main__.py:41: RuntimeWarning: invalid value encountered in double_scalars\n"
     ]
    },
    {
     "name": "stdout",
     "output_type": "stream",
     "text": [
      "Fraction of mistakes by time 1000 0.455\n",
      "Fraction of mistakes by time 2000 0.4335\n",
      "Fraction of mistakes by time 2000 0.4335\n",
      "EVALUATING WEAK LEARNERS\n",
      "Accuracy of weak learner 0 on the 2000 test images: 62 %\n",
      "Accuracy of weak learner 1 on the 2000 test images: 62 %\n",
      "Accuracy of weak learner 2 on the 2000 test images: 61 %\n",
      "Accuracy of weak learner 3 on the 2000 test images: 54 %\n",
      "Accuracy of weak learner 4 on the 2000 test images: 58 %\n",
      "\n",
      "EVALUATING MODEL\n",
      "Accuracy of the network on the 2000 test images: 62 %\n"
     ]
    },
    {
     "data": {
      "image/png": "[encoded data removed]",
      "text/plain": [
       "<Figure size 432x288 with 1 Axes>"
      ]
     },
     "metadata": {},
     "output_type": "display_data"
    }
   ],
   "source": [
    "evaluate_onlineBBM(N=5, T=2000)"
   ]
  },
  {
   "cell_type": "markdown",
   "metadata": {},
   "source": [
    "## Adaboost.OL"
   ]
  },
  {
   "cell_type": "code",
   "execution_count": null,
   "metadata": {},
   "outputs": [],
   "source": [
    "evaluate_adaboostOL(N=5, T=100)"
   ]
  },
  {
   "cell_type": "markdown",
   "metadata": {},
   "source": [
    "## Run Experiments"
   ]
  },
  {
   "cell_type": "code",
   "execution_count": 40,
   "metadata": {},
   "outputs": [
    {
     "name": "stdout",
     "output_type": "stream",
     "text": [
      "Evaluating AdaBoost OL:\n"
     ]
    },
    {
     "name": "stderr",
     "output_type": "stream",
     "text": [
      "/home/ubuntu/anaconda3/lib/python3.6/site-packages/ipykernel/__main__.py:41: RuntimeWarning: invalid value encountered in double_scalars\n",
      "/home/ubuntu/anaconda3/lib/python3.6/site-packages/ipykernel/__main__.py:41: RuntimeWarning: divide by zero encountered in double_scalars\n"
     ]
    },
    {
     "name": "stdout",
     "output_type": "stream",
     "text": [
      "Fraction of mistakes by time 1000 0.486\n",
      "Fraction of mistakes at the end of training: 0.486\n",
      "\n",
      "EVALUATING WEAK LEARNERS\n",
      "Accuracy of weak learner 0 on the 2000 test images: 50 %\n",
      "Accuracy of weak learner 1 on the 2000 test images: 57 %\n",
      "Accuracy of weak learner 2 on the 2000 test images: 52 %\n",
      "Accuracy of weak learner 3 on the 2000 test images: 57 %\n",
      "Accuracy of weak learner 4 on the 2000 test images: 50 %\n",
      "\n",
      "\n",
      "EVALUATING MODEL\n",
      "Accuracy of the network on the 2000 test images: 52 %\n"
     ]
    },
    {
     "data": {
      "image/png": "[encoded data removed]",
      "text/plain": [
       "<Figure size 432x288 with 1 Axes>"
      ]
     },
     "metadata": {},
     "output_type": "display_data"
    }
   ],
   "source": [
    "evaluate = [evaluate_onlineBBM, evaluate_adaboostOL]\n",
    "nets = []\n",
    "def run_experiment(T=10000, N=10, net=0, model=0):\n",
    "    evaluate[model](N, T)\n",
    "    \n",
    "run_experiment(T=1000, N=5, model=1)"
   ]
  },
  {
   "cell_type": "markdown",
   "metadata": {
    "collapsed": true
   },
   "source": [
    "## Citations"
   ]
  },
  {
   "cell_type": "markdown",
   "metadata": {},
   "source": [
    "Code for CNN: https://pytorch.org/tutorials/beginner/blitz/cifar10_tutorial.html\n",
    "\n",
    "Online algorithms: http://proceedings.mlr.press/v37/beygelzimer15.pdf"
   ]
  }
 ],
 "metadata": {
  "kernelspec": {
   "display_name": "Python [default]",
   "language": "python",
   "name": "python3"
  },
  "language_info": {
   "codemirror_mode": {
    "name": "ipython",
    "version": 3
   },
   "file_extension": ".py",
   "mimetype": "text/x-python",
   "name": "python",
   "nbconvert_exporter": "python",
   "pygments_lexer": "ipython3",
   "version": "3.6.4"
  }
 },
 "nbformat": 4,
 "nbformat_minor": 2
}
