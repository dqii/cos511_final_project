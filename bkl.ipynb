{
 "cells": [
  {
   "cell_type": "markdown",
   "metadata": {},
   "source": [
    "# A PyTorch Implementation of Algorithms in Optimal and Adaptive Algorithms for Online Boosting"
   ]
  },
  {
   "cell_type": "markdown",
   "metadata": {},
   "source": [
    "## Dependencies: \n",
    "PyTorch, matplotlib, numpy\n",
    "\n",
    "## Implementation Note\n",
    "\n",
    "I consider labels of the form {0, 1} and cast to {-1, +1} where needed. This may not be appropriate or necessary, and may be changed in the future."
   ]
  },
  {
   "cell_type": "markdown",
   "metadata": {},
   "source": [
    "## Setup"
   ]
  },
  {
   "cell_type": "code",
   "execution_count": 73,
   "metadata": {},
   "outputs": [
    {
     "name": "stdout",
     "output_type": "stream",
     "text": [
      "Files already downloaded and verified\n",
      "Files already downloaded and verified\n",
      "Data loaded:\n",
      "- Training set size: 20000\n",
      "- Test set size: 4000\n"
     ]
    }
   ],
   "source": [
    "import torch\n",
    "import torchvision\n",
    "import torchvision.transforms as transforms\n",
    "import numpy as np\n",
    "\n",
    "transform = transforms.Compose(\n",
    "   [transforms.ToTensor(),\n",
    "    transforms.Normalize((0.5, 0.5, 0.5), (0.5, 0.5, 0.5))])\n",
    "\n",
    "# get CIFAR10 dataset\n",
    "trainset = torchvision.datasets.CIFAR10(root='./data', train=True,\n",
    "                                        download=True, transform=transform)\n",
    "testset = torchvision.datasets.CIFAR10(root='./data', train=False,\n",
    "                                       download=True, transform=transform)\n",
    "\n",
    "classes = ('plane', 'car', 'bird', 'cat', 'deer', 'dog', 'frog', 'horse', 'ship', 'truck')\n",
    "# classes = ('cat', 'dog', 'bird', 'cat', 'deer', 'dog', 'frog', 'horse', 'ship', 'truck')\n",
    "\n",
    "# create binary dataset \n",
    "label1 = 0; label2 = 1 # change if desired\n",
    "trainset.train_labels = np.array(trainset.train_labels)\n",
    "testset.test_labels = np.array(testset.test_labels)\n",
    "\n",
    "# adjust train set\n",
    "mask = (trainset.train_labels == label1) | (trainset.train_labels == label2)\n",
    "trainset.train_data=trainset.train_data[mask]\n",
    "trainset.train_labels=trainset.train_labels[mask]\n",
    "mask1 = (trainset.train_labels == label1)\n",
    "mask2 = (trainset.train_labels == label2)\n",
    "trainset.train_labels[mask1] = 0\n",
    "trainset.train_labels[mask2] = 1\n",
    "\n",
    "# duplicate train set with horizontal rotations and shuffle new array\n",
    "permutation = np.random.permutation(len(trainset.train_labels))\n",
    "trainset.train_data = np.concatenate([trainset.train_data, \n",
    "                                      np.flip(trainset.train_data[permutation], axis=3).copy()], 0)\n",
    "trainset.train_labels = np.concatenate([trainset.train_labels, trainset.train_labels[permutation].copy()], 0)\n",
    "\n",
    "# adjust test set\n",
    "mask = (testset.test_labels == label1) | (testset.test_labels == label2)\n",
    "testset.test_data=testset.test_data[mask]\n",
    "testset.test_labels=testset.test_labels[mask]\n",
    "mask1 = (testset.test_labels == label1)\n",
    "mask2 = (testset.test_labels == label2)\n",
    "testset.test_labels[mask1] = 0\n",
    "testset.test_labels[mask2] = 1\n",
    "\n",
    "# duplicate test set with horizontal rotations and shuffle new array\n",
    "permutation = np.random.permutation(len(testset.test_labels))\n",
    "testset.test_data = np.concatenate([testset.test_data, \n",
    "                                    np.flip(testset.test_data[permutation], axis=3).copy()], 0)\n",
    "testset.test_labels = np.concatenate([testset.test_labels, testset.test_labels[permutation].copy()], 0)\n",
    "\n",
    "# load datasets for experiments: 1 at a time for training; 8 at a time for testing\n",
    "trainloader = torch.utils.data.DataLoader(trainset, batch_size=1,\n",
    "                                          shuffle=True, num_workers=2)\n",
    "testloader = torch.utils.data.DataLoader(testset, batch_size=1,\n",
    "                                         shuffle=False, num_workers=2)\n",
    "\n",
    "print(\"Data loaded:\")\n",
    "print(\"- Training set size:\", len(trainset))\n",
    "print(\"- Test set size:\", len(testset))"
   ]
  },
  {
   "cell_type": "code",
   "execution_count": 74,
   "metadata": {},
   "outputs": [
    {
     "name": "stderr",
     "output_type": "stream",
     "text": [
      "Exception ignored in: <bound method _DataLoaderIter.__del__ of <torch.utils.data.dataloader._DataLoaderIter object at 0x2b617d83e5f8>>\n",
      "Traceback (most recent call last):\n",
      "  File \"/home/dqi/.conda/envs/py36/lib/python3.6/site-packages/torch/utils/data/dataloader.py\", line 349, in __del__\n",
      "    self._shutdown_workers()\n",
      "  File \"/home/dqi/.conda/envs/py36/lib/python3.6/site-packages/torch/utils/data/dataloader.py\", line 328, in _shutdown_workers\n",
      "    self.worker_result_queue.get()\n",
      "  File \"/home/dqi/.conda/envs/py36/lib/python3.6/multiprocessing/queues.py\", line 337, in get\n",
      "    return _ForkingPickler.loads(res)\n",
      "  File \"/home/dqi/.conda/envs/py36/lib/python3.6/site-packages/torch/multiprocessing/reductions.py\", line 70, in rebuild_storage_fd\n",
      "    fd = df.detach()\n",
      "  File \"/home/dqi/.conda/envs/py36/lib/python3.6/multiprocessing/resource_sharer.py\", line 57, in detach\n",
      "    with _resource_sharer.get_connection(self._id) as conn:\n",
      "  File \"/home/dqi/.conda/envs/py36/lib/python3.6/multiprocessing/resource_sharer.py\", line 87, in get_connection\n",
      "    c = Client(address, authkey=process.current_process().authkey)\n",
      "  File \"/home/dqi/.conda/envs/py36/lib/python3.6/multiprocessing/connection.py\", line 493, in Client\n",
      "    answer_challenge(c, authkey)\n",
      "  File \"/home/dqi/.conda/envs/py36/lib/python3.6/multiprocessing/connection.py\", line 737, in answer_challenge\n",
      "    response = connection.recv_bytes(256)        # reject large message\n",
      "  File \"/home/dqi/.conda/envs/py36/lib/python3.6/multiprocessing/connection.py\", line 216, in recv_bytes\n",
      "    buf = self._recv_bytes(maxlength)\n",
      "  File \"/home/dqi/.conda/envs/py36/lib/python3.6/multiprocessing/connection.py\", line 407, in _recv_bytes\n",
      "    buf = self._recv(4)\n",
      "  File \"/home/dqi/.conda/envs/py36/lib/python3.6/multiprocessing/connection.py\", line 379, in _recv\n",
      "    chunk = read(handle, remaining)\n",
      "ConnectionResetError: [Errno 104] Connection reset by peer\n"
     ]
    },
    {
     "name": "stdout",
     "output_type": "stream",
     "text": [
      "Test Images:\n"
     ]
    },
    {
     "data": {
      "image/png": "[encoded data removed]",
      "text/plain": [
       "<matplotlib.figure.Figure at 0x2b617730fbe0>"
      ]
     },
     "metadata": {},
     "output_type": "display_data"
    },
    {
     "name": "stdout",
     "output_type": "stream",
     "text": [
      "plane   car   car plane plane plane   car plane\n",
      "Train Images:\n"
     ]
    },
    {
     "data": {
      "image/png": "[encoded data removed]",
      "text/plain": [
       "<matplotlib.figure.Figure at 0x2b6177322940>"
      ]
     },
     "metadata": {},
     "output_type": "display_data"
    },
    {
     "name": "stdout",
     "output_type": "stream",
     "text": [
      "plane plane   car plane   car plane plane   car\n"
     ]
    },
    {
     "name": "stderr",
     "output_type": "stream",
     "text": [
      "Process Process-80:\n",
      "Process Process-79:\n",
      "Traceback (most recent call last):\n",
      "Traceback (most recent call last):\n",
      "  File \"/home/dqi/.conda/envs/py36/lib/python3.6/multiprocessing/process.py\", line 258, in _bootstrap\n",
      "    self.run()\n",
      "  File \"/home/dqi/.conda/envs/py36/lib/python3.6/multiprocessing/process.py\", line 258, in _bootstrap\n",
      "    self.run()\n",
      "  File \"/home/dqi/.conda/envs/py36/lib/python3.6/multiprocessing/process.py\", line 93, in run\n",
      "    self._target(*self._args, **self._kwargs)\n",
      "  File \"/home/dqi/.conda/envs/py36/lib/python3.6/multiprocessing/process.py\", line 93, in run\n",
      "    self._target(*self._args, **self._kwargs)\n",
      "  File \"/home/dqi/.conda/envs/py36/lib/python3.6/site-packages/torch/utils/data/dataloader.py\", line 52, in _worker_loop\n",
      "    r = index_queue.get()\n",
      "  File \"/home/dqi/.conda/envs/py36/lib/python3.6/site-packages/torch/utils/data/dataloader.py\", line 52, in _worker_loop\n",
      "    r = index_queue.get()\n",
      "  File \"/home/dqi/.conda/envs/py36/lib/python3.6/multiprocessing/queues.py\", line 335, in get\n",
      "    res = self._reader.recv_bytes()\n",
      "  File \"/home/dqi/.conda/envs/py36/lib/python3.6/multiprocessing/queues.py\", line 335, in get\n",
      "    res = self._reader.recv_bytes()\n",
      "  File \"/home/dqi/.conda/envs/py36/lib/python3.6/multiprocessing/connection.py\", line 216, in recv_bytes\n",
      "    buf = self._recv_bytes(maxlength)\n",
      "  File \"/home/dqi/.conda/envs/py36/lib/python3.6/multiprocessing/connection.py\", line 216, in recv_bytes\n",
      "    buf = self._recv_bytes(maxlength)\n",
      "  File \"/home/dqi/.conda/envs/py36/lib/python3.6/multiprocessing/connection.py\", line 407, in _recv_bytes\n",
      "    buf = self._recv(4)\n",
      "  File \"/home/dqi/.conda/envs/py36/lib/python3.6/multiprocessing/connection.py\", line 407, in _recv_bytes\n",
      "    buf = self._recv(4)\n",
      "  File \"/home/dqi/.conda/envs/py36/lib/python3.6/multiprocessing/connection.py\", line 379, in _recv\n",
      "    chunk = read(handle, remaining)\n",
      "  File \"/home/dqi/.conda/envs/py36/lib/python3.6/multiprocessing/connection.py\", line 379, in _recv\n",
      "    chunk = read(handle, remaining)\n",
      "KeyboardInterrupt\n",
      "KeyboardInterrupt\n"
     ]
    }
   ],
   "source": [
    "import matplotlib.pyplot as plt\n",
    "\n",
    "# functions to show an image\n",
    "def imshow(img):\n",
    "    img = img / 2 + 0.5     # unnormalize\n",
    "    npimg = img.numpy()\n",
    "    plt.imshow(np.transpose(npimg, (1, 2, 0)))\n",
    "    plt.show()\n",
    "\n",
    "# get some random test images\n",
    "dataiter = iter(testloader)\n",
    "images = []; labels = []\n",
    "img_count = 8\n",
    "for _ in range(img_count):\n",
    "    image, label = dataiter.next()\n",
    "    images.append(image)\n",
    "    labels.append(label)\n",
    "images = torch.from_numpy(np.concatenate(images, 0))\n",
    "labels = torch.from_numpy(np.concatenate(labels, 0))\n",
    "\n",
    "# show images\n",
    "print(\"Test Images:\")\n",
    "imshow(torchvision.utils.make_grid(images))\n",
    "# print labels\n",
    "print(' '.join('%5s' % classes[labels[j]] for j in range(img_count)))\n",
    "\n",
    "# get some random train images\n",
    "dataiter = iter(trainloader)\n",
    "images = []; labels = []\n",
    "img_count = 8\n",
    "for _ in range(img_count):\n",
    "    image, label = dataiter.next()\n",
    "    images.append(image)\n",
    "    labels.append(label)\n",
    "images = torch.from_numpy(np.concatenate(images, 0))\n",
    "labels = torch.from_numpy(np.concatenate(labels, 0))\n",
    "\n",
    "# show images\n",
    "print(\"Train Images:\")\n",
    "imshow(torchvision.utils.make_grid(images))\n",
    "# print labels\n",
    "print(' '.join('%5s' % classes[labels[j]] for j in range(img_count)))"
   ]
  },
  {
   "cell_type": "markdown",
   "metadata": {},
   "source": [
    "## Weak Learners: Neural Nets"
   ]
  },
  {
   "cell_type": "code",
   "execution_count": 75,
   "metadata": {
    "collapsed": true
   },
   "outputs": [],
   "source": [
    "import torch.nn as nn\n",
    "import torch.nn.functional as F\n",
    "\n",
    "class Net(nn.Module):\n",
    "    def __init__(self, architecture=1):\n",
    "        super(Net, self).__init__()\n",
    "        assert architecture in [0, 1, 2, 3]\n",
    "        self.architecture = architecture\n",
    "        \n",
    "        # convolutional layers\n",
    "        self.conv1 = nn.Conv2d(3, 6, 5)\n",
    "        self.pool = nn.MaxPool2d(2, 2)\n",
    "        if self.architecture > 0: self.conv2 = nn.Conv2d(6, 16, 5)\n",
    "        \n",
    "        # fc for architecture 3\n",
    "        if self.architecture == 3:\n",
    "            self.fc3_1 = nn.Linear(16 * 5 * 5, 120)\n",
    "            self.fc3_2 = nn.Linear(120, 84)\n",
    "            self.fc3_3 = nn.Linear(84, 2)\n",
    "        \n",
    "        # fc for architecture 2\n",
    "        if self.architecture == 2:\n",
    "            self.fc2_1 = nn.Linear(16 * 5 * 5, 120)\n",
    "            self.fc2_2 = nn.Linear(120, 2)\n",
    "        \n",
    "        # fc for architecture 1\n",
    "        if self.architecture == 1: self.fc1_1 = nn.Linear(16 * 5 * 5, 2)\n",
    "        \n",
    "        # fc for architecture 0\n",
    "        if self.architecture == 0: self.fc0_1 = nn.Linear(6 * 14 * 14, 2)      \n",
    "        \n",
    "    \n",
    "    def forward(self, x):\n",
    "        \n",
    "        # setup convolutional layers\n",
    "        x = self.pool(F.relu(self.conv1(x)))\n",
    "        if self.architecture > 0: \n",
    "            x = self.pool(F.relu(self.conv2(x)))\n",
    "            x = x.view(-1, 16 * 5 * 5)\n",
    "        else:\n",
    "            x = x.view(-1, 6 * 14 * 14)\n",
    "            \n",
    "        # setup fully connected layers\n",
    "        if self.architecture == 0:\n",
    "            x = self.fc0_1(x)\n",
    "        elif self.architecture == 1:\n",
    "            x = self.fc1_1(x)\n",
    "        elif self.architecture == 2:\n",
    "            x = F.relu(self.fc2_1(x))\n",
    "            x = self.fc2_2(x)\n",
    "        elif self.architecture == 3:\n",
    "            x = F.relu(self.fc3_1(x))\n",
    "            x = F.relu(self.fc3_2(x))\n",
    "            x = self.fc3_3(x)\n",
    "        else: raise(\"Incorrect model id input.\")\n",
    "            \n",
    "        return x"
   ]
  },
  {
   "cell_type": "code",
   "execution_count": 76,
   "metadata": {
    "collapsed": true
   },
   "outputs": [],
   "source": [
    "# loss to use\n",
    "criterion = nn.CrossEntropyLoss()   \n",
    "\n",
    "# binomial helper function\n",
    "def binom(a, b):\n",
    "    return np.math.factorial(a) / (np.math.factorial(a-b) * np.math.factorial(b))\n",
    "\n",
    "# get output of weak learner i\n",
    "# o.w. get output of combination of WLs    \n",
    "# returns label in {-1, +1}\n",
    "def predict_WL(weak_learners, x, i=0):\n",
    "    with torch.no_grad():\n",
    "        net, _ = weak_learners[i]\n",
    "        output = net(x)\n",
    "        _, predict = torch.max(output.data, 1)\n",
    "        predict = 2 * predict - 1 # map labels to -1, 1\n",
    "        return predict\n",
    "\n",
    "# update weak learner i\n",
    "# accepts y in {0, 1}\n",
    "def update_WL(weak_learners, x, y, i):\n",
    "    net, optimizer = weak_learners[i]\n",
    "    optimizer.zero_grad()\n",
    "    output = net(x)\n",
    "    loss = criterion(output, y)\n",
    "    loss.backward()\n",
    "    optimizer.step()\n",
    "    \n",
    "# get output of combination of WLs (unweighted)\n",
    "# returns label in {-1, +1}\n",
    "def predict_WL_alg1(weak_learners, x):    \n",
    "    N = len(weak_learners)\n",
    "    prediction = 0\n",
    "    for i in range(N):\n",
    "        prediction += predict_WL(weak_learners, x, i)\n",
    "    return -1 if (np.sign(prediction) < 0) else 1\n",
    "\n",
    "# get output of combination of WLs (weighted)\n",
    "# returns label in {-1, +1}\n",
    "def predict_WL_alg2(weak_learners, x, alpha, i):\n",
    "    N = len(weak_learners)\n",
    "    prediction = 0\n",
    "    for j in range(0, i+1):\n",
    "        prediction += alpha[j] * predict_WL(weak_learners, x, j)\n",
    "    return -1 if (np.sign(prediction) < 0) else 1"
   ]
  },
  {
   "cell_type": "markdown",
   "metadata": {},
   "source": [
    "# Baseline - Weak Learner"
   ]
  },
  {
   "cell_type": "code",
   "execution_count": 77,
   "metadata": {
    "collapsed": true
   },
   "outputs": [],
   "source": [
    "def baseline(weak_learner):\n",
    "    \n",
    "    # keep track of metrics every 100 iterations\n",
    "    n_mistakes = 0    \n",
    "    n_mistakes_over_time = []\n",
    "    \n",
    "    # training\n",
    "    net, optimizer = weak_learner\n",
    "    for t, data in enumerate(trainloader, 1):\n",
    "        x, y = data        \n",
    "        optimizer.zero_grad()\n",
    "        output = net(x)        \n",
    "        loss = criterion(output, y)\n",
    "        _, predict = torch.max(output.data, 1)\n",
    "        loss.backward()\n",
    "        optimizer.step()\n",
    "        \n",
    "        n_mistakes += (predict != y).item()\n",
    "        if t % 100 == 0:\n",
    "            n_mistakes_over_time.append(n_mistakes)\n",
    "    \n",
    "    return np.array(n_mistakes_over_time)"
   ]
  },
  {
   "cell_type": "markdown",
   "metadata": {},
   "source": [
    "# Online BBM "
   ]
  },
  {
   "cell_type": "code",
   "execution_count": 78,
   "metadata": {
    "collapsed": true
   },
   "outputs": [],
   "source": [
    "def onlineBBM(weak_learners, T):\n",
    "\n",
    "    # keep track of metrics every 100 iterations\n",
    "    n_mistakes = 0 \n",
    "    n_mistakes_WL = np.zeros(len(weak_learners))\n",
    "    n_mistakes_over_time = []\n",
    "    \n",
    "    # parameters\n",
    "    gamma = 0.05\n",
    "    N = len(weak_learners)\n",
    "    s = np.zeros(N+1)\n",
    "    k = np.zeros(N+1)\n",
    "    w = np.zeros(N+1)\n",
    "    max_w = np.zeros(N+1)\n",
    "    \n",
    "    # T loop\n",
    "    for t, data in enumerate(trainloader, 0):\n",
    "        \n",
    "        # perform T iterations\n",
    "        if t >= T: \n",
    "            print(\"Fraction of mistakes at the end of training:\", n_mistakes / (T))\n",
    "            break\n",
    "        \n",
    "        # receive example and label\n",
    "        x, y = data\n",
    "        \n",
    "        # predict y\n",
    "        y_hat = predict_WL_alg1(weak_learners, x)        \n",
    "        \n",
    "        # N loop\n",
    "        for j in range(1,N+1):\n",
    "            \n",
    "            # update values\n",
    "            prediction = predict_WL(weak_learners, x, j-1)\n",
    "            s[j] = s[j-1] + (2*y-1) * prediction\n",
    "            k[j] = np.floor((N - j - s[j-1] + 1)/2)\n",
    "            binom_term = 0 if (k[j] < 0 or k[j] > N - j) else binom(N-j, k[j])\n",
    "            w[j] = binom_term * np.power(1/2 + gamma/2, k[j]) * np.power(1/2 - gamma/2, N - j - k[j])\n",
    "            max_w[j] = max(w[j], max_w[j]) \n",
    "            \n",
    "            # count number of mistakes of weak learner\n",
    "            n_mistakes_WL[j-1] += (prediction != (2*y-1)).item()\n",
    "            \n",
    "            # pass training example to WL j with some probability  \n",
    "            prob = 0 if max_w[j] == 0 else w[j]/max_w[j]\n",
    "            if np.random.random_sample() < prob:\n",
    "                update_WL(weak_learners, x, y, j-1)\n",
    "                \n",
    "        # evaluate mistakes\n",
    "        n_mistakes += (y_hat != (2*y-1)).item()\n",
    "        if (t+1) % 50 == 0:\n",
    "            n_mistakes_over_time.append(n_mistakes)\n",
    "        if (t+1) % 1000 == 0:\n",
    "            print(\"Fraction of mistakes by time %d\" % (t+1), n_mistakes / (t+1))\n",
    "        \n",
    "    # output edge of each weak learner\n",
    "    print(\"Edges of weak learners:\\n\", 0.5 - n_mistakes_WL / T)\n",
    "                \n",
    "    return n_mistakes_over_time"
   ]
  },
  {
   "cell_type": "markdown",
   "metadata": {},
   "source": [
    "# AdaBoost OL"
   ]
  },
  {
   "cell_type": "code",
   "execution_count": 90,
   "metadata": {
    "collapsed": true
   },
   "outputs": [],
   "source": [
    "def adaboostOL(weak_learners, T):\n",
    "    \n",
    "    # keep track of metrics every 100 iterations\n",
    "    n_mistakes = 0    \n",
    "    n_mistakes_WL = np.zeros(len(weak_learners))\n",
    "    n_mistakes_over_time = []\n",
    "    \n",
    "    # parameters\n",
    "    N = len(weak_learners)    \n",
    "    v = np.ones(N)\n",
    "    alpha = np.zeros(N)\n",
    "    y_hat = np.zeros(N+1)\n",
    "    z = np.zeros(N+1)\n",
    "    s = np.zeros(N+1)\n",
    "    \n",
    "    # T loop\n",
    "    for t, data in enumerate(trainloader, 1):\n",
    "        \n",
    "        # perform T iterations\n",
    "        if t >= T: \n",
    "            print(\"Fraction of mistakes at the end of training:\", n_mistakes / (T))\n",
    "            break\n",
    "        \n",
    "        # receive example and label\n",
    "        x, y = data\n",
    "        \n",
    "        # predict y wrt each WL\n",
    "        prediction = 0\n",
    "        for j in range(N):            \n",
    "            prediction += alpha[j] * predict_WL(weak_learners, x, j)\n",
    "            y_hat[j] = -1 if (np.sign(prediction) < 0) else 1\n",
    "            \n",
    "        # model randomly chooses prediction of some WL\n",
    "        v = v / np.sum(v)\n",
    "        idx = np.random.choice(N, size=1, p=v)\n",
    "        y_hat_final = y_hat[idx]\n",
    "        \n",
    "        # N loop\n",
    "        for j in range(1,N+1):\n",
    "            \n",
    "            # set values\n",
    "            prediction = predict_WL(weak_learners, x, j-1)\n",
    "            z[j] = (2 * y - 1) * prediction\n",
    "            s[j] = s[j-1] + alpha[j-1] * z[j]\n",
    "            alpha[j-1] = max(-2, min(2, alpha[j-1] + (4 * z[j] / np.sqrt(t)) / (1 + np.exp(s[j]))))\n",
    "            \n",
    "            # count number of mistakes of weak learner\n",
    "            n_mistakes_WL[j-1] += (prediction != (2*y-1)).item()\n",
    "            \n",
    "            # pass training example to WL j with some probability\n",
    "            if np.random.random_sample() < 1 / (1 + np.exp(s[j-1])):\n",
    "                update_WL(weak_learners, x, y, j-1)\n",
    "                \n",
    "            # update v\n",
    "            indic = -1 if (y_hat_final != (2*y-1)) else 0\n",
    "            v[j-1] = v[j-1] * np.exp(indic)\n",
    "            \n",
    "        # evaluate mistakes\n",
    "        n_mistakes += (y_hat_final != (2*y-1)).item()\n",
    "        if (t+1) % 50 == 0:\n",
    "            n_mistakes_over_time.append(n_mistakes)\n",
    "        if (t+1) % 1000 == 0:\n",
    "            print(\"Fraction of mistakes by time %d\" % (t+1), n_mistakes / (t+1))\n",
    "       \n",
    "    # output edge of each weak learner\n",
    "    print(\"Edges of weak learners:\\n\", 0.5 - n_mistakes_WL / T)\n",
    "    \n",
    "    return n_mistakes_over_time, alpha"
   ]
  },
  {
   "cell_type": "markdown",
   "metadata": {},
   "source": [
    "## Evaluate Models on Test Set"
   ]
  },
  {
   "cell_type": "code",
   "execution_count": 80,
   "metadata": {},
   "outputs": [],
   "source": [
    "import torch.optim as optim\n",
    "import matplotlib.pyplot as plt\n",
    "\n",
    "# plot variables\n",
    "plt_interval = 50\n",
    "\n",
    "# Enable GPU\n",
    "use_gpu = torch.cuda.is_available()\n",
    "if use_gpu:\n",
    "    print(\"GPU is available.\")"
   ]
  },
  {
   "cell_type": "code",
   "execution_count": 81,
   "metadata": {
    "collapsed": true
   },
   "outputs": [],
   "source": [
    "def evaluate_WLs(weak_learners):\n",
    "    print(\"EVALUATING WEAK LEARNERS\")\n",
    "    \n",
    "    for i in range(len(weak_learners)):\n",
    "        correct = 0\n",
    "        with torch.no_grad():\n",
    "            for data in testloader:\n",
    "                x, y = data\n",
    "                y = 2 * y - 1\n",
    "                prediction = predict_WL(weak_learners, x, i)\n",
    "                correct += (prediction == y).sum().item()\n",
    "        print('Accuracy of weak learner', i, 'on the 2000 test images: %d %%' % (100 * correct / len(testloader)))\n",
    "        \n",
    "def evaluate_model_onlineBBM(weak_learners):\n",
    "    print(\"\\nEVALUATING MODEL\")\n",
    "    \n",
    "    N = len(weak_learners)\n",
    "    correct = 0\n",
    "    with torch.no_grad():\n",
    "        for data in testloader: \n",
    "            x, y = data\n",
    "            y = 2 * y - 1\n",
    "            prediction = predict_WL_alg1(weak_learners, x)\n",
    "            correct += (prediction == y).sum().item()\n",
    "    print('Accuracy of the network on the 2000 test images: %d %%' % (100 * correct / len(testloader)))\n",
    "    \n",
    "def evaluate_model_adaboostOL(weak_learners, alpha):\n",
    "    print(\"\\nEVALUATING MODEL\")\n",
    "    \n",
    "    N = len(weak_learners)\n",
    "    correct = 0\n",
    "    total = 0\n",
    "    with torch.no_grad():\n",
    "        for data in testloader:\n",
    "            x, y = data\n",
    "            y = 2 * y - 1\n",
    "            prediction = predict_WL_alg2(weak_learners, x, alpha, N-1)\n",
    "            correct += (prediction == y).sum().item()\n",
    "    print('Accuracy of the network on the 2000 test images: %d %%' % (100 * correct / len(testloader)))"
   ]
  },
  {
   "cell_type": "markdown",
   "metadata": {},
   "source": [
    "## Evaluate Models Online"
   ]
  },
  {
   "cell_type": "code",
   "execution_count": 84,
   "metadata": {
    "collapsed": true
   },
   "outputs": [],
   "source": [
    "def plot_loss(T, mistakes):\n",
    "    error_rates = mistakes/ np.arange(plt_interval, T+1, plt_interval)\n",
    "    plt.plot(np.arange(2*plt_interval, T+1, plt_interval), error_rates[1:])\n",
    "    plt.title(\"Fraction of mistakes made online by the strong online learner\")\n",
    "    plt.xlabel(\"Number of Iterations\")\n",
    "    plt.ylabel(\"Loss\")\n",
    "    plt.show()\n",
    "\n",
    "def evaluate_baseline(architecture):\n",
    "    print(\"Evaluating Baseline:\")\n",
    "    \n",
    "    net = Net(architecture=architecture); print(\"Weak Learner architecture:\\n\", net)\n",
    "    optimizer = optim.SGD(net.parameters(), lr=0.001, momentum=0.9)\n",
    "    weak_learner = (net, optimizer)\n",
    "    mistakes = baseline(weak_learner)\n",
    "    evaluate_WLs([weak_learner])\n",
    "    \n",
    "    # plot results\n",
    "    plt.plot(mistakes/ np.arange(100, 20001, 100))\n",
    "    plt.xlabel(\"Number of Iterations (x100)\")\n",
    "    plt.ylabel(\"Loss\")\n",
    "    plt.show()\n",
    "    \n",
    "def evaluate_onlineBBM(N, T, architecture):\n",
    "    print(\"\\033[1mEvaluating Online BBM:\\n\\033[0m\")\n",
    "    \n",
    "    # initialize N weak learners\n",
    "    weak_learners = []\n",
    "    for _ in range(N):\n",
    "        net = Net(architecture=architecture)    \n",
    "        optimizer = optim.SGD(net.parameters(), lr=0.001, momentum=0.9)\n",
    "        weak_learners.append((net, optimizer)) \n",
    "    print(\"Weak Learner architecture:\\n\", net) \n",
    "    \n",
    "    # test\n",
    "    mistakes = onlineBBM(weak_learners, T)\n",
    "    print()\n",
    "    evaluate_WLs(weak_learners)\n",
    "    print()\n",
    "    evaluate_model_onlineBBM(weak_learners)\n",
    "    \n",
    "    plot_loss(T, mistakes)\n",
    "    \n",
    "def evaluate_adaboostOL(N, T, architecture):\n",
    "    print(\"\\033[1mEvaluating AdaBoost OL:\\n\\033[0m\")\n",
    "    \n",
    "    # initialize N weak learners\n",
    "    weak_learners = []\n",
    "    for _ in range(N):\n",
    "        net = Net(architecture=architecture)    \n",
    "        optimizer = optim.SGD(net.parameters(), lr=0.001, momentum=0.9)\n",
    "        weak_learners.append((net, optimizer)) \n",
    "    print(\"Weak Learner architecture:\\n\", net)\n",
    "        \n",
    "    mistakes, alpha = adaboostOL(weak_learners, T)\n",
    "    print()\n",
    "    evaluate_WLs(weak_learners)\n",
    "    print()\n",
    "    evaluate_model_adaboostOL(weak_learners, alpha)\n",
    "    \n",
    "    plot_loss(T, mistakes)"
   ]
  },
  {
   "cell_type": "markdown",
   "metadata": {},
   "source": [
    "## Baseline"
   ]
  },
  {
   "cell_type": "code",
   "execution_count": 85,
   "metadata": {},
   "outputs": [
    {
     "name": "stdout",
     "output_type": "stream",
     "text": [
      "Evaluating Baseline:\n",
      "Weak Learner architecture:\n",
      " Net(\n",
      "  (conv1): Conv2d(3, 6, kernel_size=(5, 5), stride=(1, 1))\n",
      "  (pool): MaxPool2d(kernel_size=2, stride=2, padding=0, dilation=1, ceil_mode=False)\n",
      "  (conv2): Conv2d(6, 16, kernel_size=(5, 5), stride=(1, 1))\n",
      "  (fc2_1): Linear(in_features=400, out_features=120, bias=True)\n",
      "  (fc2_2): Linear(in_features=120, out_features=2, bias=True)\n",
      ")\n",
      "EVALUATING WEAK LEARNERS\n",
      "Accuracy of weak learner 0 on the 2000 test images: 90 %\n"
     ]
    },
    {
     "data": {
      "image/png": "[encoded data removed]",
      "text/plain": [
       "<matplotlib.figure.Figure at 0x2b617b4d14e0>"
      ]
     },
     "metadata": {},
     "output_type": "display_data"
    }
   ],
   "source": [
    "evaluate_baseline(architecture=2)"
   ]
  },
  {
   "cell_type": "markdown",
   "metadata": {},
   "source": [
    "## Online BBM"
   ]
  },
  {
   "cell_type": "code",
   "execution_count": 86,
   "metadata": {},
   "outputs": [
    {
     "name": "stdout",
     "output_type": "stream",
     "text": [
      "\u001b[1mEvaluating Online BBM:\n",
      "\u001b[0m\n",
      "Weak Learner architecture:\n",
      " Net(\n",
      "  (conv1): Conv2d(3, 6, kernel_size=(5, 5), stride=(1, 1))\n",
      "  (pool): MaxPool2d(kernel_size=2, stride=2, padding=0, dilation=1, ceil_mode=False)\n",
      "  (conv2): Conv2d(6, 16, kernel_size=(5, 5), stride=(1, 1))\n",
      "  (fc2_1): Linear(in_features=400, out_features=120, bias=True)\n",
      "  (fc2_2): Linear(in_features=120, out_features=2, bias=True)\n",
      ")\n",
      "Fraction of mistakes by time 1000 0.332\n",
      "Fraction of mistakes by time 2000 0.2815\n",
      "Fraction of mistakes by time 3000 0.2613333333333333\n",
      "Fraction of mistakes by time 4000 0.2415\n",
      "Fraction of mistakes by time 5000 0.2254\n",
      "Fraction of mistakes by time 6000 0.21266666666666667\n",
      "Fraction of mistakes by time 7000 0.2022857142857143\n",
      "Fraction of mistakes by time 8000 0.194125\n",
      "Fraction of mistakes by time 9000 0.18633333333333332\n",
      "Fraction of mistakes by time 10000 0.1789\n",
      "Fraction of mistakes by time 11000 0.17227272727272727\n",
      "Fraction of mistakes by time 12000 0.16641666666666666\n",
      "Fraction of mistakes by time 13000 0.1616923076923077\n",
      "Fraction of mistakes by time 14000 0.15828571428571428\n",
      "Fraction of mistakes by time 15000 0.15533333333333332\n",
      "Fraction of mistakes by time 16000 0.1515625\n",
      "Fraction of mistakes by time 17000 0.14758823529411766\n",
      "Fraction of mistakes by time 18000 0.14416666666666667\n",
      "Fraction of mistakes by time 19000 0.141\n",
      "Fraction of mistakes by time 20000 0.13845\n",
      "Edges of weak learners:\n",
      " [0.3724  0.35115 0.32975 0.20435 0.08675]\n",
      "\n",
      "EVALUATING WEAK LEARNERS\n",
      "Accuracy of weak learner 0 on the 2000 test images: 91 %\n",
      "Accuracy of weak learner 1 on the 2000 test images: 91 %\n",
      "Accuracy of weak learner 2 on the 2000 test images: 90 %\n",
      "Accuracy of weak learner 3 on the 2000 test images: 67 %\n",
      "Accuracy of weak learner 4 on the 2000 test images: 50 %\n",
      "\n",
      "\n",
      "EVALUATING MODEL\n",
      "Accuracy of the network on the 2000 test images: 92 %\n"
     ]
    },
    {
     "data": {
      "image/png": "[encoded data removed]",
      "text/plain": [
       "<matplotlib.figure.Figure at 0x2b61773d4be0>"
      ]
     },
     "metadata": {},
     "output_type": "display_data"
    }
   ],
   "source": [
    "evaluate_onlineBBM(N=5, T=20000, architecture=2)"
   ]
  },
  {
   "cell_type": "markdown",
   "metadata": {},
   "source": [
    "## Adaboost.OL"
   ]
  },
  {
   "cell_type": "code",
   "execution_count": 91,
   "metadata": {},
   "outputs": [
    {
     "name": "stdout",
     "output_type": "stream",
     "text": [
      "\u001b[1mEvaluating AdaBoost OL:\n",
      "\u001b[0m\n",
      "Weak Learner architecture:\n",
      " Net(\n",
      "  (conv1): Conv2d(3, 6, kernel_size=(5, 5), stride=(1, 1))\n",
      "  (pool): MaxPool2d(kernel_size=2, stride=2, padding=0, dilation=1, ceil_mode=False)\n",
      "  (conv2): Conv2d(6, 16, kernel_size=(5, 5), stride=(1, 1))\n",
      "  (fc2_1): Linear(in_features=400, out_features=120, bias=True)\n",
      "  (fc2_2): Linear(in_features=120, out_features=2, bias=True)\n",
      ")\n",
      "Fraction of mistakes by time 1000 0.389\n",
      "Fraction of mistakes by time 2000 0.325\n",
      "Fraction of mistakes by time 3000 0.29033333333333333\n",
      "Fraction of mistakes by time 4000 0.27375\n",
      "Fraction of mistakes by time 5000 0.26\n",
      "Fraction of mistakes by time 6000 0.248\n",
      "Fraction of mistakes by time 7000 0.23542857142857143\n",
      "Fraction of mistakes by time 8000 0.22825\n",
      "Fraction of mistakes by time 9000 0.22144444444444444\n",
      "Fraction of mistakes by time 10000 0.2152\n",
      "Fraction of mistakes by time 11000 0.21063636363636365\n",
      "Fraction of mistakes by time 12000 0.20441666666666666\n",
      "Fraction of mistakes by time 13000 0.19892307692307692\n",
      "Fraction of mistakes by time 14000 0.19364285714285714\n",
      "Fraction of mistakes by time 15000 0.1892\n",
      "Fraction of mistakes by time 16000 0.1845\n",
      "Fraction of mistakes by time 17000 0.18105882352941177\n",
      "Fraction of mistakes by time 18000 0.177\n",
      "Fraction of mistakes by time 19000 0.1735263157894737\n",
      "Fraction of mistakes by time 20000 0.17045\n",
      "Fraction of mistakes at the end of training: 0.17045\n",
      "Edges of weak learners:\n",
      " [0.32825 0.2926  0.20895 0.23945 0.19375]\n",
      "\n",
      "EVALUATING WEAK LEARNERS\n",
      "Accuracy of weak learner 0 on the 2000 test images: 89 %\n",
      "Accuracy of weak learner 1 on the 2000 test images: 86 %\n",
      "Accuracy of weak learner 2 on the 2000 test images: 82 %\n",
      "Accuracy of weak learner 3 on the 2000 test images: 83 %\n",
      "Accuracy of weak learner 4 on the 2000 test images: 77 %\n",
      "\n",
      "\n",
      "EVALUATING MODEL\n",
      "Accuracy of the network on the 2000 test images: 90 %\n"
     ]
    },
    {
     "data": {
      "image/png": "[encoded data removed]",
      "text/plain": [
       "<matplotlib.figure.Figure at 0x2b617b53b898>"
      ]
     },
     "metadata": {},
     "output_type": "display_data"
    }
   ],
   "source": [
    "evaluate_adaboostOL(N=5, T=20000, architecture=2)"
   ]
  },
  {
   "cell_type": "markdown",
   "metadata": {},
   "source": [
    "## Run Experiments"
   ]
  },
  {
   "cell_type": "code",
   "execution_count": 88,
   "metadata": {},
   "outputs": [],
   "source": [
    "def run_experiment(T=10000, N=10, net=0, model=\"bbm\"):\n",
    "    evaluate = dict(bbm=evaluate_onlineBBM, adaboost=evaluate_adaboostOL)\n",
    "    evaluate[model](N, T, net)\n",
    "    \n",
    "# net architectures\n",
    "# 0: 1c1f\n",
    "# 1: 2c1f\n",
    "# 2: 2c2f\n",
    "# 3: 2c3f"
   ]
  },
  {
   "cell_type": "code",
   "execution_count": 92,
   "metadata": {},
   "outputs": [
    {
     "name": "stdout",
     "output_type": "stream",
     "text": [
      "\u001b[1mEvaluating AdaBoost OL:\n",
      "\u001b[0m\n",
      "Weak Learner architecture:\n",
      " Net(\n",
      "  (conv1): Conv2d(3, 6, kernel_size=(5, 5), stride=(1, 1))\n",
      "  (pool): MaxPool2d(kernel_size=2, stride=2, padding=0, dilation=1, ceil_mode=False)\n",
      "  (conv2): Conv2d(6, 16, kernel_size=(5, 5), stride=(1, 1))\n",
      "  (fc2_1): Linear(in_features=400, out_features=120, bias=True)\n",
      "  (fc2_2): Linear(in_features=120, out_features=2, bias=True)\n",
      ")\n",
      "Fraction of mistakes by time 1000 0.412\n",
      "Fraction of mistakes by time 2000 0.3395\n",
      "Fraction of mistakes at the end of training: 0.3136\n",
      "Edges of weak learners:\n",
      " [0.1816 0.1344 0.1984 0.0988 0.1496]\n",
      "\n",
      "EVALUATING WEAK LEARNERS\n",
      "Accuracy of weak learner 0 on the 2000 test images: 75 %\n",
      "Accuracy of weak learner 1 on the 2000 test images: 64 %\n",
      "Accuracy of weak learner 2 on the 2000 test images: 73 %\n",
      "Accuracy of weak learner 3 on the 2000 test images: 77 %\n",
      "Accuracy of weak learner 4 on the 2000 test images: 71 %\n",
      "\n",
      "\n",
      "EVALUATING MODEL\n",
      "Accuracy of the network on the 2000 test images: 76 %\n"
     ]
    },
    {
     "data": {
      "image/png": "[encoded data removed]",
      "text/plain": [
       "<matplotlib.figure.Figure at 0x2b617b4dd198>"
      ]
     },
     "metadata": {},
     "output_type": "display_data"
    }
   ],
   "source": [
    "run_experiment(T=2500, N=5, net=2, model=\"adaboost\")"
   ]
  },
  {
   "cell_type": "markdown",
   "metadata": {
    "collapsed": true
   },
   "source": [
    "## Citations"
   ]
  },
  {
   "cell_type": "markdown",
   "metadata": {},
   "source": [
    "Code for CNN: https://pytorch.org/tutorials/beginner/blitz/cifar10_tutorial.html\n",
    "\n",
    "Online algorithms: http://proceedings.mlr.press/v37/beygelzimer15.pdf"
   ]
  }
 ],
 "metadata": {
  "kernelspec": {
   "display_name": "Python 3",
   "language": "python",
   "name": "python3"
  },
  "language_info": {
   "codemirror_mode": {
    "name": "ipython",
    "version": 3
   },
   "file_extension": ".py",
   "mimetype": "text/x-python",
   "name": "python",
   "nbconvert_exporter": "python",
   "pygments_lexer": "ipython3",
   "version": "3.6.3"
  }
 },
 "nbformat": 4,
 "nbformat_minor": 2
}
