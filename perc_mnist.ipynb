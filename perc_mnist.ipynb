{
 "cells": [
  {
   "cell_type": "markdown",
   "metadata": {},
   "source": [
    "# A PyTorch Implementation of Algorithms in Optimal and Adaptive Algorithms for Online Boosting"
   ]
  },
  {
   "cell_type": "markdown",
   "metadata": {},
   "source": [
    "## Dependencies: \n",
    "PyTorch, matplotlib, numpy, opencv-python\n",
    "\n",
    "## Implementation Note\n",
    "\n",
    "I consider labels of the form {0, 1} and cast to {-1, +1} where needed. This may not be appropriate or necessary, and may be changed in the future."
   ]
  },
  {
   "cell_type": "markdown",
   "metadata": {},
   "source": [
    "## Setup"
   ]
  },
  {
   "cell_type": "code",
   "execution_count": 46,
   "metadata": {},
   "outputs": [
    {
     "name": "stdout",
     "output_type": "stream",
     "text": [
      "Data loaded:\n",
      "- Training set size: 60000\n",
      "  Dimensions of train images: torch.Size([60000, 28, 28])\n",
      "- Test set size: 10000\n",
      "  Dimensions of test images: torch.Size([10000, 28, 28])\n",
      "\n",
      "Vector dimensionality: 784\n"
     ]
    }
   ],
   "source": [
    "import cv2\n",
    "import os\n",
    "import torch\n",
    "import torchvision\n",
    "import torchvision.datasets as dset\n",
    "import torchvision.transforms as transforms\n",
    "import numpy as np\n",
    "\n",
    "# plots setup\n",
    "import matplotlib.pyplot as plt\n",
    "plt_interval = 50\n",
    "\n",
    "root = './mnist_data'\n",
    "if not os.path.exists(root):\n",
    "    os.mkdir(root)\n",
    "    \n",
    "# if not exist, download mnist dataset\n",
    "trans = transforms.Compose([transforms.ToTensor()])#, transforms.Normalize((0.5,), (1.0,))])\n",
    "trainset = dset.MNIST(root=root, train=True, transform=trans, download=True)\n",
    "testset = dset.MNIST(root=root, train=False, transform=trans, download=True)\n",
    "\n",
    "# classes = ('plane', 'car', 'bird', 'cat', 'deer', 'dog', 'frog', 'horse', 'ship', 'truck')\n",
    "classes = ('0', 'high', 'low')\n",
    "\n",
    "# create binary dataset \n",
    "label1 = [0,1,2,3,4]; label2 = [5,6,7,8,9] # change if desired\n",
    "trainset.train_labels = np.array(trainset.train_labels)\n",
    "testset.test_labels = np.array(testset.test_labels)\n",
    "\n",
    "# adjust train set\n",
    "# mask = (trainset.train_labels == label1) | (trainset.train_labels == label2)\n",
    "# trainset.train_data=torch.from_numpy(trainset.train_data.numpy()[mask])\n",
    "# trainset.train_labels=trainset.train_labels[mask]\n",
    "mask1 = (trainset.train_labels == 0) | (trainset.train_labels == 1) | (trainset.train_labels == 2) | (trainset.train_labels == 3) | (trainset.train_labels == 4)\n",
    "mask2 = (trainset.train_labels == 5) | (trainset.train_labels == 6) | (trainset.train_labels == 7) | (trainset.train_labels == 8) | (trainset.train_labels == 9)\n",
    "trainset.train_labels[mask1] = -1\n",
    "trainset.train_labels[mask2] = 1\n",
    "\n",
    "# duplicate train set with horizontal flip and shuffle new array\n",
    "# permutation = np.random.permutation(len(trainset.train_labels))\n",
    "# trainset.train_data = np.concatenate([trainset.train_data, \n",
    "#                                       np.flip(trainset.train_data[permutation], axis=2).copy()], 0)\n",
    "# trainset.train_labels = np.concatenate([trainset.train_labels, trainset.train_labels[permutation].copy()], 0)\n",
    "\n",
    "# adjust test set\n",
    "# mask = (testset.test_labels == label1) | (testset.test_labels == label2)\n",
    "# testset.test_data=torch.from_numpy(testset.test_data.numpy()[mask])\n",
    "# testset.test_labels=testset.test_labels[mask]\n",
    "mask1 = (testset.test_labels == 0) | (testset.test_labels == 1) | (testset.test_labels == 2) | (testset.test_labels == 3) | (testset.test_labels == 4)\n",
    "mask2 = (testset.test_labels == 5) | (testset.test_labels == 6) | (testset.test_labels == 7) | (testset.test_labels == 8) | (testset.test_labels == 9)\n",
    "testset.test_labels[mask1] = -1\n",
    "testset.test_labels[mask2] = 1\n",
    "\n",
    "# load datasets for experiments: 1 at a time for training; 8 at a time for testing\n",
    "trainloader = torch.utils.data.DataLoader(trainset, batch_size=1,\n",
    "                                          shuffle=True, num_workers=2)\n",
    "testloader = torch.utils.data.DataLoader(testset, batch_size=1,\n",
    "                                         shuffle=False, num_workers=2)\n",
    "\n",
    "print(\"Data loaded:\")\n",
    "print(\"- Training set size:\", len(trainset))\n",
    "print(\"  Dimensions of train images:\", np.shape(trainset.train_data))\n",
    "print(\"- Test set size:\", len(testset))\n",
    "print(\"  Dimensions of test images:\", np.shape(testset.test_data))\n",
    "\n",
    "w_size = np.shape(trainset.train_data)[1] * np.shape(trainset.train_data)[2]\n",
    "print(\"\\nVector dimensionality:\", w_size)"
   ]
  },
  {
   "cell_type": "code",
   "execution_count": 47,
   "metadata": {},
   "outputs": [
    {
     "name": "stdout",
     "output_type": "stream",
     "text": [
      "Test Images:\n"
     ]
    },
    {
     "data": {
      "image/png": "[encoded data removed]",
      "text/plain": [
       "<Figure size 432x288 with 1 Axes>"
      ]
     },
     "metadata": {},
     "output_type": "display_data"
    },
    {
     "name": "stdout",
     "output_type": "stream",
     "text": [
      " high   low   low   low   low   low   low  high\n",
      "Train Images:\n"
     ]
    },
    {
     "data": {
      "image/png": "[encoded data removed]",
      "text/plain": [
       "<Figure size 432x288 with 1 Axes>"
      ]
     },
     "metadata": {},
     "output_type": "display_data"
    },
    {
     "name": "stdout",
     "output_type": "stream",
     "text": [
      "  low  high  high  high  high   low  high  high\n"
     ]
    }
   ],
   "source": [
    "import matplotlib.pyplot as plt\n",
    "\n",
    "# functions to show an image\n",
    "def imshow(img):\n",
    "    img = img / 2 + 0.5     # unnormalize\n",
    "    npimg = img.numpy()\n",
    "    plt.imshow(np.transpose(npimg, (1, 2, 0)))\n",
    "    plt.show()\n",
    "\n",
    "# get some random test images\n",
    "dataiter = iter(testloader)\n",
    "images = []; labels = []\n",
    "img_count = 8\n",
    "for _ in range(img_count):\n",
    "    image, label = dataiter.next()\n",
    "    images.append(image)\n",
    "    labels.append(label)\n",
    "images = torch.from_numpy(np.concatenate(images, 0))\n",
    "labels = torch.from_numpy(np.concatenate(labels, 0))\n",
    "\n",
    "# show images\n",
    "print(\"Test Images:\")\n",
    "imshow(torchvision.utils.make_grid(images))\n",
    "# print labels\n",
    "print(' '.join('%5s' % classes[labels[j]] for j in range(img_count)))\n",
    "\n",
    "# get some random train images\n",
    "dataiter = iter(trainloader)\n",
    "images = []; labels = []\n",
    "for _ in range(img_count):\n",
    "    image, label = dataiter.next()\n",
    "    images.append(image)\n",
    "    labels.append(label)\n",
    "images = torch.from_numpy(np.concatenate(images, 0))\n",
    "labels = torch.from_numpy(np.concatenate(labels, 0))\n",
    "\n",
    "# show images\n",
    "print(\"Train Images:\")\n",
    "imshow(torchvision.utils.make_grid(images))\n",
    "# print labels\n",
    "print(' '.join('%5s' % classes[labels[j]] for j in range(img_count)))"
   ]
  },
  {
   "cell_type": "markdown",
   "metadata": {},
   "source": [
    "# Weak Learner: Perceptron"
   ]
  },
  {
   "cell_type": "code",
   "execution_count": 48,
   "metadata": {},
   "outputs": [],
   "source": [
    "# set learning rate\n",
    "eta = 0.01\n",
    "\n",
    "# get output of weak learner i\n",
    "# o.w. get output of combination of WLs    \n",
    "# returns label in {-1, +1}\n",
    "def predict_WL(weak_learners, x, i=0):\n",
    "    predict = np.dot(x, weak_learners[i])\n",
    "    return -1 if (np.sign(predict) < 0) else 1\n",
    "\n",
    "# update weak learner i\n",
    "# accepts y in {-1, 1}\n",
    "def update_WL(weak_learners, x, y, i):\n",
    "    predict = predict_WL(weak_learners, x, i)\n",
    "    if (predict*y) < 0:\n",
    "        weak_learners[i] = weak_learners[i] + eta * x * y\n",
    "    return weak_learners\n",
    "    \n",
    "# get output of combination of WLs (unweighted)\n",
    "# returns label in {-1, +1}\n",
    "def predict_WL_alg1(weak_learners, x):    \n",
    "    N = len(weak_learners)\n",
    "    prediction = 0\n",
    "    for i in range(N):\n",
    "        prediction += predict_WL(weak_learners, x, i)\n",
    "    return -1 if (np.sign(prediction) < 0) else 1\n",
    "\n",
    "# get output of combination of WLs (weighted)\n",
    "# returns label in {-1, +1}\n",
    "def predict_WL_alg2(weak_learners, x, alpha, i):\n",
    "    prediction = 0\n",
    "    for j in range(0, i+1):\n",
    "        prediction += alpha[j] * predict_WL(weak_learners, x, j)\n",
    "    return -1 if (np.sign(prediction) < 0) else 1"
   ]
  },
  {
   "cell_type": "markdown",
   "metadata": {},
   "source": [
    "# Baseline - Weak Learner"
   ]
  },
  {
   "cell_type": "code",
   "execution_count": 49,
   "metadata": {},
   "outputs": [],
   "source": [
    "def baseline(weak_learner, T):\n",
    "    \n",
    "    # keep track of metrics every 100 iterations\n",
    "    n_mistakes = 0    \n",
    "    n_mistakes_over_time = []\n",
    "    \n",
    "    # training\n",
    "    for t, data in enumerate(trainloader, 1):   \n",
    "        # perform T iterations\n",
    "        if t > T: break\n",
    "        \n",
    "        # optimization step\n",
    "        x, y = data\n",
    "        x = x.numpy().flatten()\n",
    "        predict = -1 if (np.sign(np.dot(x, weak_learner)) < 0) else 1 \n",
    "        if (predict*y) < 0:\n",
    "            weak_learner = weak_learner + eta * x * y\n",
    "        \n",
    "        n_mistakes += (predict != y).item()\n",
    "        if t % plt_interval == 0:\n",
    "            n_mistakes_over_time.append(n_mistakes)\n",
    "    \n",
    "    print(\"Fraction of mistakes after %d iterations:\" % T, n_mistakes / (T))\n",
    "    \n",
    "    return np.array(n_mistakes_over_time), weak_learner"
   ]
  },
  {
   "cell_type": "markdown",
   "metadata": {},
   "source": [
    "# Online BBM "
   ]
  },
  {
   "cell_type": "code",
   "execution_count": 55,
   "metadata": {},
   "outputs": [],
   "source": [
    "# binomial helper function\n",
    "def binom(a, b):\n",
    "    return np.math.factorial(a) / (np.math.factorial(a-b) * np.math.factorial(b))\n",
    "\n",
    "def onlineBBM(weak_learners, T):\n",
    "\n",
    "    # keep track of metrics every 100 iterations\n",
    "    n_mistakes = 0 \n",
    "    n_mistakes_WL = np.zeros(len(weak_learners))\n",
    "    n_mistakes_over_time = []\n",
    "    \n",
    "    # parameters\n",
    "    gamma = 0.35\n",
    "    N = len(weak_learners)\n",
    "    s = np.zeros(N+1)\n",
    "    k = np.zeros(N+1)\n",
    "    w = np.zeros(N+1)\n",
    "    max_w = np.zeros(N+1)\n",
    "    \n",
    "    # T loop\n",
    "    for t, data in enumerate(trainloader, 1):\n",
    "        \n",
    "        # perform T iterations\n",
    "        if t > T: break\n",
    "        \n",
    "        # receive example and label\n",
    "        x, y = data\n",
    "        x = x.numpy().flatten()\n",
    "        \n",
    "        # predict y\n",
    "        y_hat = predict_WL_alg1(weak_learners, x)        \n",
    "        \n",
    "        # N loop\n",
    "        for j in range(1,N+1):\n",
    "            \n",
    "            # update values\n",
    "            prediction = predict_WL(weak_learners, x, j-1)\n",
    "            s[j] = s[j-1] + y * prediction\n",
    "            k[j] = np.floor((N - j - s[j-1] + 1)/2)\n",
    "            binom_term = 0 if (k[j] < 0 or k[j] > N - j) else binom(N-j, k[j])\n",
    "            w[j] = binom_term * np.power(1/2 + gamma/2, k[j]) * np.power(1/2 - gamma/2, N - j - k[j])\n",
    "            max_w[j] = max(w[j], max_w[j]) \n",
    "            \n",
    "            # count number of mistakes of weak learner\n",
    "            n_mistakes_WL[j-1] += (prediction != y).item()\n",
    "            \n",
    "            # pass training example to WL j with some probability  \n",
    "            prob = 1 if max_w[j] == 0 else w[j]/max_w[j]\n",
    "            if np.random.random_sample() < prob:\n",
    "                weak_learners = update_WL(weak_learners, x, y, j-1)\n",
    "                \n",
    "        # evaluate mistakes\n",
    "        n_mistakes += (y_hat != y).item()\n",
    "        if t % plt_interval == 0:\n",
    "            n_mistakes_over_time.append(n_mistakes)\n",
    "        if t % 1000 == 0:\n",
    "            print(\"Fraction of mistakes by time %d\" % t, n_mistakes / t)\n",
    "            \n",
    "    print(\"Fraction of mistakes after %d iterations:\" % T, n_mistakes / (T))\n",
    "        \n",
    "    # output edge of each weak learner\n",
    "    print(\"Edges of weak learners:\\n\", 0.5 - n_mistakes_WL / T)\n",
    "                \n",
    "    return n_mistakes_over_time, weak_learners"
   ]
  },
  {
   "cell_type": "markdown",
   "metadata": {},
   "source": [
    "# AdaBoost OL"
   ]
  },
  {
   "cell_type": "code",
   "execution_count": 51,
   "metadata": {},
   "outputs": [],
   "source": [
    "def adaboostOL(weak_learners, T):\n",
    "    \n",
    "    # keep track of metrics every 100 iterations\n",
    "    n_mistakes = 0    \n",
    "    n_mistakes_WL = np.zeros(len(weak_learners))\n",
    "    n_mistakes_over_time = []\n",
    "    \n",
    "    # parameters\n",
    "    N = len(weak_learners)    \n",
    "    v = np.ones(N)\n",
    "    alpha = np.zeros(N)\n",
    "    y_hat = np.zeros(N+1)\n",
    "    z = np.zeros(N+1)\n",
    "    s = np.zeros(N+1)\n",
    "    \n",
    "    # T loop\n",
    "    for t, data in enumerate(trainloader, 1):\n",
    "        \n",
    "        # perform T iterations\n",
    "        if t > T: break\n",
    "        \n",
    "        # receive example and label\n",
    "        x, y = data\n",
    "        x = x.numpy().flatten()\n",
    "        \n",
    "        # predict y wrt each WL\n",
    "        prediction = 0\n",
    "        for j in range(N):            \n",
    "            prediction += alpha[j] * predict_WL(weak_learners, x, j)\n",
    "            y_hat[j] = -1 if (np.sign(prediction) < 0) else 1\n",
    "            \n",
    "        # model randomly chooses prediction of some WL\n",
    "        v = v / np.sum(v)\n",
    "        idx = np.random.choice(N, size=1, p=v)\n",
    "        y_hat_final = y_hat[idx]\n",
    "        \n",
    "        # N loop\n",
    "        for j in range(1,N+1):\n",
    "            \n",
    "            # set values\n",
    "            prediction = predict_WL(weak_learners, x, j-1)\n",
    "            z[j] = y * prediction\n",
    "            s[j] = s[j-1] + alpha[j-1] * z[j]\n",
    "            alpha[j-1] = max(-2, min(2, alpha[j-1] + (4 * z[j] / np.sqrt(t)) / (1 + np.exp(s[j]))))\n",
    "            \n",
    "            # count number of mistakes of weak learner\n",
    "            n_mistakes_WL[j-1] += (prediction != y).item()\n",
    "            \n",
    "            # pass training example to WL j with some probability\n",
    "            if np.random.random_sample() < 1 / (1 + np.exp(s[j-1])):\n",
    "                weak_learners = update_WL(weak_learners, x, y, j-1)\n",
    "                \n",
    "            # update v\n",
    "            indic = -1 if (y_hat_final != y) else 0\n",
    "            v[j-1] = v[j-1] * np.exp(indic)\n",
    "            \n",
    "        # evaluate mistakes\n",
    "        n_mistakes += (y_hat_final != y).item()\n",
    "        if t % plt_interval == 0:\n",
    "            n_mistakes_over_time.append(n_mistakes)\n",
    "        if t % 1000 == 0:\n",
    "            print(\"Fraction of mistakes by time %d\" % t, n_mistakes / t)\n",
    "            \n",
    "    print(\"Fraction of mistakes after %d iterations:\" % T, n_mistakes / (T))\n",
    "       \n",
    "    # output edge of each weak learner\n",
    "    print(\"Edges of weak learners:\\n\", 0.5 - n_mistakes_WL / T)\n",
    "    \n",
    "    return n_mistakes_over_time, alpha"
   ]
  },
  {
   "cell_type": "markdown",
   "metadata": {},
   "source": [
    "## Evaluate Models on Test Set"
   ]
  },
  {
   "cell_type": "code",
   "execution_count": 52,
   "metadata": {},
   "outputs": [],
   "source": [
    "def evaluate_WLs(weak_learners):\n",
    "    print(\"EVALUATING WEAK LEARNERS\")\n",
    "    \n",
    "    for i in range(len(weak_learners)):\n",
    "        correct = 0\n",
    "        for data in testloader:\n",
    "            x, y = data\n",
    "            x = x.numpy().flatten()\n",
    "            prediction = predict_WL(weak_learners, x, i)\n",
    "            correct += (prediction == y).sum()\n",
    "        print('Accuracy of weak learner', i, 'on the %d test images: %d %%' % (len(testloader), (100 * correct / len(testloader))))\n",
    "        \n",
    "def evaluate_model_onlineBBM(weak_learners):\n",
    "    print(\"\\nEVALUATING MODEL\")\n",
    "    \n",
    "    N = len(weak_learners)\n",
    "    correct = 0\n",
    "    for data in testloader: \n",
    "        x, y = data\n",
    "        x = x.numpy().flatten()\n",
    "        prediction = predict_WL_alg1(weak_learners, x)\n",
    "        correct += (prediction == y).sum().item()\n",
    "    print('Accuracy of the network on the %d test images: %d %%' % (len(testloader), (100 * correct / len(testloader))))\n",
    "    \n",
    "def evaluate_model_adaboostOL(weak_learners, alpha):\n",
    "    print(\"\\nEVALUATING MODEL\")\n",
    "    \n",
    "    N = len(weak_learners)\n",
    "    correct = 0\n",
    "    total = 0\n",
    "    for data in testloader:\n",
    "        x, y = data\n",
    "        x = x.numpy().flatten()\n",
    "        prediction = predict_WL_alg2(weak_learners, x, alpha, N-1)\n",
    "        correct += (prediction == y).sum().item()\n",
    "    print('Accuracy of the network on the %d test images: %d %%' % (len(testloader), (100 * correct / len(testloader))))"
   ]
  },
  {
   "cell_type": "markdown",
   "metadata": {},
   "source": [
    "## Evaluate Models Online"
   ]
  },
  {
   "cell_type": "code",
   "execution_count": 53,
   "metadata": {},
   "outputs": [],
   "source": [
    "def plot_loss(T, mistakes):\n",
    "    error_rates = mistakes/ np.arange(plt_interval, T+1, plt_interval)\n",
    "    plt.plot(np.arange(2*plt_interval, T+1, plt_interval), error_rates[1:])\n",
    "    plt.title(\"Fraction of mistakes made online by the strong online learner\")\n",
    "    plt.xlabel(\"Number of Iterations\")\n",
    "    plt.ylabel(\"Loss\")\n",
    "    plt.show()\n",
    "\n",
    "def evaluate_baseline(architecture, T):\n",
    "    print(\"\\033[1mEvaluating Baseline:\\n\\033[0m\")\n",
    "    \n",
    "    weak_learner = np.zeros(w_size)\n",
    "    mistakes, weak_learner = baseline(weak_learner, T)\n",
    "    evaluate_WLs([weak_learner])\n",
    "    \n",
    "    plot_loss(T, mistakes)\n",
    "    \n",
    "def evaluate_onlineBBM(N, T, architecture):\n",
    "    print(\"\\033[1mEvaluating Online BBM:\\n\\033[0m\")\n",
    "    \n",
    "    # initialize N weak learners\n",
    "    weak_learners = []\n",
    "    for _ in range(N):\n",
    "        weak_learners.append(np.zeros(w_size)) \n",
    "    \n",
    "    # test\n",
    "    mistakes, weak_learners = onlineBBM(weak_learners, T)\n",
    "    print()\n",
    "    evaluate_WLs(weak_learners)\n",
    "    print()\n",
    "    evaluate_model_onlineBBM(weak_learners)\n",
    "    \n",
    "    plot_loss(T, mistakes)\n",
    "    \n",
    "def evaluate_adaboostOL(N, T, architecture):\n",
    "    print(\"\\033[1mEvaluating AdaBoost OL:\\n\\033[0m\")\n",
    "    \n",
    "    # initialize N weak learners\n",
    "    weak_learners = []\n",
    "    for _ in range(N):\n",
    "        weak_learners.append(np.zeros(w_size)) \n",
    "        \n",
    "    mistakes, alpha = adaboostOL(weak_learners, T)\n",
    "    print()\n",
    "    evaluate_WLs(weak_learners)\n",
    "    print()\n",
    "    evaluate_model_adaboostOL(weak_learners, alpha)\n",
    "    \n",
    "    plot_loss(T, mistakes)"
   ]
  },
  {
   "cell_type": "markdown",
   "metadata": {},
   "source": [
    "## Baseline"
   ]
  },
  {
   "cell_type": "code",
   "execution_count": 21,
   "metadata": {},
   "outputs": [
    {
     "name": "stdout",
     "output_type": "stream",
     "text": [
      "\u001b[1mEvaluating Baseline:\n",
      "\u001b[0m\n",
      "Fraction of mistakes after 5000 iterations: 0.251\n",
      "EVALUATING WEAK LEARNERS\n",
      "Accuracy of weak learner 0 on the 2000 test images: 80 %\n"
     ]
    },
    {
     "data": {
      "image/png": "[encoded data removed]",
      "text/plain": [
       "<Figure size 432x288 with 1 Axes>"
      ]
     },
     "metadata": {},
     "output_type": "display_data"
    }
   ],
   "source": [
    "evaluate_baseline(architecture=0, T=5000)"
   ]
  },
  {
   "cell_type": "markdown",
   "metadata": {},
   "source": [
    "## Online BBM"
   ]
  },
  {
   "cell_type": "code",
   "execution_count": 56,
   "metadata": {},
   "outputs": [
    {
     "name": "stdout",
     "output_type": "stream",
     "text": [
      "\u001b[1mEvaluating Online BBM:\n",
      "\u001b[0m\n",
      "Fraction of mistakes by time 1000 0.278\n",
      "Fraction of mistakes by time 2000 0.26\n",
      "Fraction of mistakes by time 3000 0.256\n",
      "Fraction of mistakes by time 4000 0.25725\n",
      "Fraction of mistakes by time 5000 0.2496\n",
      "Fraction of mistakes after 5000 iterations: 0.2496\n",
      "Edges of weak learners:\n",
      " [0.2504 0.2504 0.2504 0.2504 0.2504]\n",
      "\n",
      "EVALUATING WEAK LEARNERS\n",
      "Accuracy of weak learner 0 on the 10000 test images: 70 %\n",
      "Accuracy of weak learner 1 on the 10000 test images: 70 %\n",
      "Accuracy of weak learner 2 on the 10000 test images: 70 %\n",
      "Accuracy of weak learner 3 on the 10000 test images: 70 %\n",
      "Accuracy of weak learner 4 on the 10000 test images: 70 %\n",
      "\n",
      "\n",
      "EVALUATING MODEL\n",
      "Accuracy of the network on the 10000 test images: 70 %\n"
     ]
    },
    {
     "data": {
      "image/png": "[encoded data removed]",
      "text/plain": [
       "<Figure size 432x288 with 1 Axes>"
      ]
     },
     "metadata": {},
     "output_type": "display_data"
    }
   ],
   "source": [
    "evaluate_onlineBBM(N=5, T=5000, architecture=2)"
   ]
  },
  {
   "cell_type": "markdown",
   "metadata": {},
   "source": [
    "## Adaboost.OL"
   ]
  },
  {
   "cell_type": "code",
   "execution_count": 45,
   "metadata": {},
   "outputs": [
    {
     "name": "stdout",
     "output_type": "stream",
     "text": [
      "\u001b[1mEvaluating AdaBoost OL:\n",
      "\u001b[0m\n",
      "Fraction of mistakes by time 1000 0.344\n",
      "Fraction of mistakes by time 2000 0.2935\n",
      "Fraction of mistakes by time 3000 0.2783333333333333\n",
      "Fraction of mistakes by time 4000 0.272\n",
      "Fraction of mistakes by time 5000 0.2622\n",
      "Fraction of mistakes after 5000 iterations: 0.2622\n",
      "Edges of weak learners:\n",
      " [0.2328 0.2196 0.202  0.1848 0.1868]\n",
      "\n",
      "EVALUATING WEAK LEARNERS\n",
      "Accuracy of weak learner 0 on the 10000 test images: 79 %\n",
      "Accuracy of weak learner 1 on the 10000 test images: 73 %\n",
      "Accuracy of weak learner 2 on the 10000 test images: 63 %\n",
      "Accuracy of weak learner 3 on the 10000 test images: 76 %\n",
      "Accuracy of weak learner 4 on the 10000 test images: 56 %\n",
      "\n",
      "\n",
      "EVALUATING MODEL\n",
      "Accuracy of the network on the 10000 test images: 79 %\n"
     ]
    },
    {
     "data": {
      "image/png": "[encoded data removed]",
      "text/plain": [
       "<Figure size 432x288 with 1 Axes>"
      ]
     },
     "metadata": {},
     "output_type": "display_data"
    }
   ],
   "source": [
    "evaluate_adaboostOL(N=5, T=5000, architecture=2)"
   ]
  },
  {
   "cell_type": "markdown",
   "metadata": {},
   "source": [
    "## Run Experiments"
   ]
  },
  {
   "cell_type": "code",
   "execution_count": 21,
   "metadata": {},
   "outputs": [],
   "source": [
    "def run_experiment(T=10000, N=10, net=0, model=\"bbm\"):\n",
    "    evaluate = dict(bbm=evaluate_onlineBBM, adaboost=evaluate_adaboostOL)\n",
    "    evaluate[model](N, T, net)\n",
    "    \n",
    "# ignore net input"
   ]
  },
  {
   "cell_type": "code",
   "execution_count": null,
   "metadata": {},
   "outputs": [],
   "source": [
    "run_experiment(T=20000, N=5, net=0, model=\"adaboost\")"
   ]
  },
  {
   "cell_type": "markdown",
   "metadata": {
    "collapsed": true
   },
   "source": [
    "## Citations"
   ]
  },
  {
   "cell_type": "markdown",
   "metadata": {},
   "source": [
    "Code for CNN: https://pytorch.org/tutorials/beginner/blitz/cifar10_tutorial.html\n",
    "\n",
    "Online algorithms: http://proceedings.mlr.press/v37/beygelzimer15.pdf"
   ]
  }
 ],
 "metadata": {
  "kernelspec": {
   "display_name": "Python [default]",
   "language": "python",
   "name": "python3"
  }
 },
 "nbformat": 4,
 "nbformat_minor": 2
}
